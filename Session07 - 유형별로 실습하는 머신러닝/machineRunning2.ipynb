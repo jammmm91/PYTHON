{
 "cells": [
  {
   "cell_type": "code",
   "execution_count": 2,
   "metadata": {},
   "outputs": [],
   "source": [
    "import pandas as pd"
   ]
  },
  {
   "cell_type": "code",
   "execution_count": 3,
   "metadata": {},
   "outputs": [],
   "source": [
    "inputData = pd.read_csv(\"../dataset/feature_regression_example.csv\")"
   ]
  },
  {
   "cell_type": "code",
   "execution_count": 7,
   "metadata": {},
   "outputs": [],
   "source": [
    "inputDatas = pd.read_csv(\"../dataset/kopo_decision_tree_all_new.csv\")"
   ]
  },
  {
   "cell_type": "code",
   "execution_count": 8,
   "metadata": {
    "collapsed": true,
    "jupyter": {
     "outputs_hidden": true
    }
   },
   "outputs": [
    {
     "data": {
      "text/plain": [
       "0        ITEM001\n",
       "3        ITEM002\n",
       "5        ITEM003\n",
       "6        ITEM004\n",
       "13       ITEM005\n",
       "          ...   \n",
       "32164    ITEM487\n",
       "32195    ITEM488\n",
       "32224    ITEM489\n",
       "32318    ITEM490\n",
       "32410    ITEM491\n",
       "Name: ITEM, Length: 491, dtype: object"
      ]
     },
     "execution_count": 8,
     "metadata": {},
     "output_type": "execute_result"
    }
   ],
   "source": [
    "inputData.ITEM.drop_duplicates()"
   ]
  },
  {
   "cell_type": "code",
   "execution_count": 9,
   "metadata": {
    "collapsed": true,
    "jupyter": {
     "outputs_hidden": true
    }
   },
   "outputs": [
    {
     "data": {
      "text/plain": [
       "0        ITEM001\n",
       "3        ITEM002\n",
       "5        ITEM003\n",
       "6        ITEM004\n",
       "13       ITEM005\n",
       "          ...   \n",
       "32164    ITEM487\n",
       "32195    ITEM488\n",
       "32224    ITEM489\n",
       "32318    ITEM490\n",
       "32410    ITEM491\n",
       "Name: ITEM, Length: 491, dtype: object"
      ]
     },
     "execution_count": 9,
     "metadata": {},
     "output_type": "execute_result"
    }
   ],
   "source": [
    "inputDatas.ITEM.drop_duplicates()"
   ]
  },
  {
   "cell_type": "code",
   "execution_count": 12,
   "metadata": {},
   "outputs": [],
   "source": [
    "from sklearn.preprocessing import LabelEncoder"
   ]
  },
  {
   "cell_type": "code",
   "execution_count": 13,
   "metadata": {},
   "outputs": [],
   "source": [
    "itemLabel = LabelEncoder()"
   ]
  },
  {
   "cell_type": "code",
   "execution_count": 14,
   "metadata": {},
   "outputs": [],
   "source": [
    "groupKey = [\"REGIONID\",\"ITEM\"]"
   ]
  },
  {
   "cell_type": "code",
   "execution_count": 18,
   "metadata": {},
   "outputs": [],
   "source": [
    "groupData = inputDatas.groupby(groupKey)"
   ]
  },
  {
   "cell_type": "code",
   "execution_count": 19,
   "metadata": {},
   "outputs": [],
   "source": [
    "oneGroup = groupData.get_group(list(groupData.groups)[490])"
   ]
  },
  {
   "cell_type": "code",
   "execution_count": null,
   "metadata": {},
   "outputs": [],
   "source": [
    "len (groupData) = inputDatas.groupby(groupKey)"
   ]
  },
  {
   "cell_type": "code",
   "execution_count": null,
   "metadata": {},
   "outputs": [],
   "source": [
    "inputDatas[\"ITEM_NEW\"] = itemLabel"
   ]
  },
  {
   "cell_type": "code",
   "execution_count": null,
   "metadata": {},
   "outputs": [],
   "source": []
  },
  {
   "cell_type": "code",
   "execution_count": null,
   "metadata": {},
   "outputs": [],
   "source": []
  },
  {
   "cell_type": "code",
   "execution_count": null,
   "metadata": {},
   "outputs": [],
   "source": [
    "def groupMl(oneGroup):\n",
    "\n",
    "    # 디버깅 코드\n",
    "    # oneGroup = groupData.get_group(   list(groupData.groups)[0]  )\n",
    "    # print 찍어서!! start {} . oneGroup.loc[0].ITEM {}, forate\n",
    "    # 1. 특성 선정\n",
    "    labelColumn = \"QTY\"\n",
    "    label=[labelColumn]\n",
    "    stdCorr = 0.2\n",
    "\n",
    "    corrDf = oneGroup.corr()\n",
    "\n",
    "    features = \\\n",
    "        list ( corrDf.loc[ (abs(corrDf.QTY) > stdCorr) & (corrDf.QTY != 1)].index )\n",
    "\n",
    "    # 2. 데이터 분리\n",
    "    trainingDataFeatures = oneGroup.loc[oneGroup.YEARWEEK < stdYearweek, features]\n",
    "    trainingDataLabel = oneGroup.loc[oneGroup.YEARWEEK < stdYearweek, label]\n",
    "    testDataFeatures = oneGroup.loc[oneGroup.YEARWEEK >= stdYearweek, features]\n",
    "    testDataLabel = oneGroup.loc[oneGroup.YEARWEEK >= stdYearweek, label]\n",
    "\n",
    "    # 3. 모델 정의\n",
    "\n",
    "    model_dt = DecisionTreeRegressor(random_state=1)\n",
    "\n",
    "    # 4. 모델 학습\n",
    "\n",
    "    model_dt.fit(trainingDataFeatures, trainingDataLabel)\n",
    "\n",
    "    # 5. 모델 예측\n",
    "\n",
    "    predictValue = model_dt.predict(testDataFeatures)\n",
    "\n",
    "    # 6. 예측값 붙이기\n",
    "\n",
    "    testDataAll = oneGroup.loc[testDataLabel.index]\n",
    "\n",
    "    testDataAll[\"PREDICT_\n"
   ]
  }
 ],
 "metadata": {
  "kernelspec": {
   "display_name": "Python 3",
   "language": "python",
   "name": "python3"
  },
  "language_info": {
   "codemirror_mode": {
    "name": "ipython",
    "version": 3
   },
   "file_extension": ".py",
   "mimetype": "text/x-python",
   "name": "python",
   "nbconvert_exporter": "python",
   "pygments_lexer": "ipython3",
   "version": "3.8.5"
  }
 },
 "nbformat": 4,
 "nbformat_minor": 4
}
