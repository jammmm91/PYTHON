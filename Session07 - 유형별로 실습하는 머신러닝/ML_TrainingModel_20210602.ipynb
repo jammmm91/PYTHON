{
 "cells": [
  {
   "cell_type": "code",
   "execution_count": 234,
   "metadata": {},
   "outputs": [],
   "source": [
    "# 데이터 처리 라이브러리\n",
    "import pandas as pd\n",
    "import numpy as np\n",
    "# 분석알고리즘 DecisionTree 구현 라이브러리\n",
    "from sklearn.tree import DecisionTreeRegressor \n",
    "# 과거데이터를 8:2, 7:3 이나 이런식으로 자동으로 나누어주는 라이브러리\n",
    "from sklearn.model_selection import train_test_split\n",
    "\n",
    "from sklearn.ensemble import RandomForestRegressor\n",
    "from sklearn.tree import DecisionTreeRegressor \n",
    "from sklearn.linear_model import LinearRegression\n",
    "\n",
    "from sklearn.preprocessing import LabelEncoder\n",
    "\n",
    "from sklearn.metrics import mean_absolute_error\n",
    "from sklearn.metrics import mean_squared_error"
   ]
  },
  {
   "cell_type": "markdown",
   "metadata": {},
   "source": [
    "# 그룹바이 문제 풀이 "
   ]
  },
  {
   "cell_type": "code",
   "execution_count": 235,
   "metadata": {},
   "outputs": [],
   "source": [
    "import pandas as pd"
   ]
  },
  {
   "cell_type": "code",
   "execution_count": 236,
   "metadata": {},
   "outputs": [],
   "source": [
    "inputData = pd.read_csv(\"../dataset/feature_regression_example.csv\")"
   ]
  },
  {
   "cell_type": "code",
   "execution_count": 237,
   "metadata": {},
   "outputs": [],
   "source": [
    "inputDatas = pd.read_csv(\"../dataset/kopo_decision_tree_all_new.csv\")"
   ]
  },
  {
   "cell_type": "code",
   "execution_count": 238,
   "metadata": {},
   "outputs": [],
   "source": [
    "groupKey = [\"ITEM\"]"
   ]
  },
  {
   "cell_type": "code",
   "execution_count": 239,
   "metadata": {},
   "outputs": [],
   "source": [
    "countData = inputDatas.groupby(groupKey)[\"YEARWEEK\"].agg([\"count\"]).reset_index()"
   ]
  },
  {
   "cell_type": "code",
   "execution_count": 240,
   "metadata": {},
   "outputs": [],
   "source": [
    "countData.rename(columns={\"count\":\"DATA_CNT\"},inplace=True)"
   ]
  },
  {
   "cell_type": "code",
   "execution_count": 241,
   "metadata": {},
   "outputs": [],
   "source": [
    "maxKnob = countData.DATA_CNT.max()"
   ]
  },
  {
   "cell_type": "code",
   "execution_count": 242,
   "metadata": {},
   "outputs": [],
   "source": [
    "joinKey = [\"ITEM\"]"
   ]
  },
  {
   "cell_type": "code",
   "execution_count": 243,
   "metadata": {},
   "outputs": [],
   "source": [
    "joinData = pd.merge( left=inputDatas,\n",
    "          right=countData,\n",
    "          how=\"left\",\n",
    "          on=joinKey)"
   ]
  },
  {
   "cell_type": "code",
   "execution_count": 244,
   "metadata": {},
   "outputs": [],
   "source": [
    "refinedData = joinData.loc[joinData.DATA_CNT >= maxKnob]"
   ]
  },
  {
   "cell_type": "code",
   "execution_count": 245,
   "metadata": {},
   "outputs": [],
   "source": [
    "from sklearn.preprocessing import LabelEncoder"
   ]
  },
  {
   "cell_type": "code",
   "execution_count": 246,
   "metadata": {},
   "outputs": [],
   "source": [
    "itemLabel = LabelEncoder()"
   ]
  },
  {
   "cell_type": "code",
   "execution_count": 247,
   "metadata": {},
   "outputs": [],
   "source": [
    "groupKey = [\"REGIONID\",\"ITEM\"]"
   ]
  },
  {
   "cell_type": "code",
   "execution_count": 248,
   "metadata": {},
   "outputs": [],
   "source": [
    "stdYearweek = 201701"
   ]
  },
  {
   "cell_type": "code",
   "execution_count": 249,
   "metadata": {},
   "outputs": [],
   "source": [
    "def groupMl(oneGroup):\n",
    "\n",
    "    # 디버깅 코드\n",
    "    # oneGroup = groupData.get_group(   list(groupData.groups)[0]  )\n",
    "    # print 찍어서!! start {} . oneGroup.loc[0].ITEM {}, forate\n",
    "    # 1. 특성 선정\n",
    "    labelColumn = \"QTY\"\n",
    "    label=[labelColumn]\n",
    "    stdCorr = 0.2\n",
    "\n",
    "    corrDf = oneGroup.corr()\n",
    "\n",
    "    features = \\\n",
    "        list ( corrDf.loc[ (abs(corrDf.QTY) > stdCorr) & (corrDf.QTY != 1)].index )\n",
    "\n",
    "    # 2. 데이터 분리\n",
    "    trainingDataFeatures = oneGroup.loc[oneGroup.YEARWEEK < stdYearweek, features]\n",
    "    trainingDataLabel = oneGroup.loc[oneGroup.YEARWEEK < stdYearweek, label]\n",
    "    testDataFeatures = oneGroup.loc[oneGroup.YEARWEEK >= stdYearweek, features]\n",
    "    testDataLabel = oneGroup.loc[oneGroup.YEARWEEK >= stdYearweek, label]\n",
    "\n",
    "    # 3. 모델 정의\n",
    "\n",
    "    model_dt = DecisionTreeRegressor(random_state=1)\n",
    "\n",
    "    # 4. 모델 학습\n",
    "\n",
    "    model_dt.fit(trainingDataFeatures, trainingDataLabel)\n",
    "\n",
    "    # 5. 모델 예측\n",
    "\n",
    "    predictValue = model_dt.predict(testDataFeatures)\n",
    "\n",
    "    # 6. 예측값 붙이기\n",
    "\n",
    "    testDataAll = oneGroup.loc[testDataLabel.index]\n",
    "\n",
    "    testDataAll[\"PREDICT_DT\"] = predictValue\n",
    "\n",
    "    return testDataAll"
   ]
  },
  {
   "cell_type": "code",
   "execution_count": 250,
   "metadata": {},
   "outputs": [
    {
     "data": {
      "text/html": [
       "<div>\n",
       "<style scoped>\n",
       "    .dataframe tbody tr th:only-of-type {\n",
       "        vertical-align: middle;\n",
       "    }\n",
       "\n",
       "    .dataframe tbody tr th {\n",
       "        vertical-align: top;\n",
       "    }\n",
       "\n",
       "    .dataframe thead th {\n",
       "        text-align: right;\n",
       "    }\n",
       "</style>\n",
       "<table border=\"1\" class=\"dataframe\">\n",
       "  <thead>\n",
       "    <tr style=\"text-align: right;\">\n",
       "      <th></th>\n",
       "      <th></th>\n",
       "      <th></th>\n",
       "      <th>REGIONID</th>\n",
       "      <th>PRODUCTGROUP</th>\n",
       "      <th>PRODUCT</th>\n",
       "      <th>ITEM</th>\n",
       "      <th>YEARWEEK</th>\n",
       "      <th>YEAR</th>\n",
       "      <th>WEEK</th>\n",
       "      <th>QTY</th>\n",
       "      <th>HOLIDAY</th>\n",
       "      <th>HCLUS</th>\n",
       "      <th>PROMOTION</th>\n",
       "      <th>PRO_PERCENT</th>\n",
       "      <th>DATA_CNT</th>\n",
       "      <th>PREDICT_DT</th>\n",
       "    </tr>\n",
       "    <tr>\n",
       "      <th>REGIONID</th>\n",
       "      <th>ITEM</th>\n",
       "      <th></th>\n",
       "      <th></th>\n",
       "      <th></th>\n",
       "      <th></th>\n",
       "      <th></th>\n",
       "      <th></th>\n",
       "      <th></th>\n",
       "      <th></th>\n",
       "      <th></th>\n",
       "      <th></th>\n",
       "      <th></th>\n",
       "      <th></th>\n",
       "      <th></th>\n",
       "      <th></th>\n",
       "      <th></th>\n",
       "    </tr>\n",
       "  </thead>\n",
       "  <tbody>\n",
       "    <tr>\n",
       "      <th rowspan=\"11\" valign=\"top\">A01</th>\n",
       "      <th rowspan=\"5\" valign=\"top\">ITEM043</th>\n",
       "      <th>2457</th>\n",
       "      <td>A01</td>\n",
       "      <td>PG02</td>\n",
       "      <td>P03</td>\n",
       "      <td>ITEM043</td>\n",
       "      <td>201701</td>\n",
       "      <td>2017</td>\n",
       "      <td>1</td>\n",
       "      <td>470</td>\n",
       "      <td>Y</td>\n",
       "      <td>1</td>\n",
       "      <td>Y</td>\n",
       "      <td>0.240964</td>\n",
       "      <td>146</td>\n",
       "      <td>303.000000</td>\n",
       "    </tr>\n",
       "    <tr>\n",
       "      <th>2458</th>\n",
       "      <td>A01</td>\n",
       "      <td>PG02</td>\n",
       "      <td>P03</td>\n",
       "      <td>ITEM043</td>\n",
       "      <td>201702</td>\n",
       "      <td>2017</td>\n",
       "      <td>2</td>\n",
       "      <td>293</td>\n",
       "      <td>N</td>\n",
       "      <td>4</td>\n",
       "      <td>Y</td>\n",
       "      <td>0.240964</td>\n",
       "      <td>146</td>\n",
       "      <td>139.000000</td>\n",
       "    </tr>\n",
       "    <tr>\n",
       "      <th>2459</th>\n",
       "      <td>A01</td>\n",
       "      <td>PG02</td>\n",
       "      <td>P03</td>\n",
       "      <td>ITEM043</td>\n",
       "      <td>201703</td>\n",
       "      <td>2017</td>\n",
       "      <td>3</td>\n",
       "      <td>285</td>\n",
       "      <td>Y</td>\n",
       "      <td>2</td>\n",
       "      <td>Y</td>\n",
       "      <td>0.201205</td>\n",
       "      <td>146</td>\n",
       "      <td>201.000000</td>\n",
       "    </tr>\n",
       "    <tr>\n",
       "      <th>2460</th>\n",
       "      <td>A01</td>\n",
       "      <td>PG02</td>\n",
       "      <td>P03</td>\n",
       "      <td>ITEM043</td>\n",
       "      <td>201704</td>\n",
       "      <td>2017</td>\n",
       "      <td>4</td>\n",
       "      <td>304</td>\n",
       "      <td>N</td>\n",
       "      <td>4</td>\n",
       "      <td>Y</td>\n",
       "      <td>0.201205</td>\n",
       "      <td>146</td>\n",
       "      <td>276.000000</td>\n",
       "    </tr>\n",
       "    <tr>\n",
       "      <th>2461</th>\n",
       "      <td>A01</td>\n",
       "      <td>PG02</td>\n",
       "      <td>P03</td>\n",
       "      <td>ITEM043</td>\n",
       "      <td>201705</td>\n",
       "      <td>2017</td>\n",
       "      <td>5</td>\n",
       "      <td>366</td>\n",
       "      <td>N</td>\n",
       "      <td>4</td>\n",
       "      <td>Y</td>\n",
       "      <td>0.320482</td>\n",
       "      <td>146</td>\n",
       "      <td>464.000000</td>\n",
       "    </tr>\n",
       "    <tr>\n",
       "      <th>...</th>\n",
       "      <th>...</th>\n",
       "      <td>...</td>\n",
       "      <td>...</td>\n",
       "      <td>...</td>\n",
       "      <td>...</td>\n",
       "      <td>...</td>\n",
       "      <td>...</td>\n",
       "      <td>...</td>\n",
       "      <td>...</td>\n",
       "      <td>...</td>\n",
       "      <td>...</td>\n",
       "      <td>...</td>\n",
       "      <td>...</td>\n",
       "      <td>...</td>\n",
       "      <td>...</td>\n",
       "    </tr>\n",
       "    <tr>\n",
       "      <th rowspan=\"5\" valign=\"top\">ITEM376</th>\n",
       "      <th>27040</th>\n",
       "      <td>A01</td>\n",
       "      <td>PG05</td>\n",
       "      <td>P15</td>\n",
       "      <td>ITEM376</td>\n",
       "      <td>201737</td>\n",
       "      <td>2017</td>\n",
       "      <td>37</td>\n",
       "      <td>226</td>\n",
       "      <td>N</td>\n",
       "      <td>4</td>\n",
       "      <td>Y</td>\n",
       "      <td>0.271214</td>\n",
       "      <td>146</td>\n",
       "      <td>210.500000</td>\n",
       "    </tr>\n",
       "    <tr>\n",
       "      <th>27041</th>\n",
       "      <td>A01</td>\n",
       "      <td>PG05</td>\n",
       "      <td>P15</td>\n",
       "      <td>ITEM376</td>\n",
       "      <td>201738</td>\n",
       "      <td>2017</td>\n",
       "      <td>38</td>\n",
       "      <td>218</td>\n",
       "      <td>N</td>\n",
       "      <td>4</td>\n",
       "      <td>Y</td>\n",
       "      <td>0.271214</td>\n",
       "      <td>146</td>\n",
       "      <td>210.500000</td>\n",
       "    </tr>\n",
       "    <tr>\n",
       "      <th>27042</th>\n",
       "      <td>A01</td>\n",
       "      <td>PG05</td>\n",
       "      <td>P15</td>\n",
       "      <td>ITEM376</td>\n",
       "      <td>201739</td>\n",
       "      <td>2017</td>\n",
       "      <td>39</td>\n",
       "      <td>151</td>\n",
       "      <td>N</td>\n",
       "      <td>4</td>\n",
       "      <td>Y</td>\n",
       "      <td>0.245307</td>\n",
       "      <td>146</td>\n",
       "      <td>150.428571</td>\n",
       "    </tr>\n",
       "    <tr>\n",
       "      <th>27043</th>\n",
       "      <td>A01</td>\n",
       "      <td>PG05</td>\n",
       "      <td>P15</td>\n",
       "      <td>ITEM376</td>\n",
       "      <td>201740</td>\n",
       "      <td>2017</td>\n",
       "      <td>40</td>\n",
       "      <td>220</td>\n",
       "      <td>N</td>\n",
       "      <td>4</td>\n",
       "      <td>Y</td>\n",
       "      <td>0.245307</td>\n",
       "      <td>146</td>\n",
       "      <td>150.428571</td>\n",
       "    </tr>\n",
       "    <tr>\n",
       "      <th>27044</th>\n",
       "      <td>A01</td>\n",
       "      <td>PG05</td>\n",
       "      <td>P15</td>\n",
       "      <td>ITEM376</td>\n",
       "      <td>201741</td>\n",
       "      <td>2017</td>\n",
       "      <td>41</td>\n",
       "      <td>226</td>\n",
       "      <td>Y</td>\n",
       "      <td>2</td>\n",
       "      <td>Y</td>\n",
       "      <td>0.245307</td>\n",
       "      <td>146</td>\n",
       "      <td>121.000000</td>\n",
       "    </tr>\n",
       "  </tbody>\n",
       "</table>\n",
       "<p>2132 rows × 14 columns</p>\n",
       "</div>"
      ],
      "text/plain": [
       "                       REGIONID PRODUCTGROUP PRODUCT     ITEM  YEARWEEK  YEAR  \\\n",
       "REGIONID ITEM                                                                   \n",
       "A01      ITEM043 2457       A01         PG02     P03  ITEM043    201701  2017   \n",
       "                 2458       A01         PG02     P03  ITEM043    201702  2017   \n",
       "                 2459       A01         PG02     P03  ITEM043    201703  2017   \n",
       "                 2460       A01         PG02     P03  ITEM043    201704  2017   \n",
       "                 2461       A01         PG02     P03  ITEM043    201705  2017   \n",
       "...                         ...          ...     ...      ...       ...   ...   \n",
       "         ITEM376 27040      A01         PG05     P15  ITEM376    201737  2017   \n",
       "                 27041      A01         PG05     P15  ITEM376    201738  2017   \n",
       "                 27042      A01         PG05     P15  ITEM376    201739  2017   \n",
       "                 27043      A01         PG05     P15  ITEM376    201740  2017   \n",
       "                 27044      A01         PG05     P15  ITEM376    201741  2017   \n",
       "\n",
       "                        WEEK  QTY HOLIDAY  HCLUS PROMOTION  PRO_PERCENT  \\\n",
       "REGIONID ITEM                                                             \n",
       "A01      ITEM043 2457      1  470       Y      1         Y     0.240964   \n",
       "                 2458      2  293       N      4         Y     0.240964   \n",
       "                 2459      3  285       Y      2         Y     0.201205   \n",
       "                 2460      4  304       N      4         Y     0.201205   \n",
       "                 2461      5  366       N      4         Y     0.320482   \n",
       "...                      ...  ...     ...    ...       ...          ...   \n",
       "         ITEM376 27040    37  226       N      4         Y     0.271214   \n",
       "                 27041    38  218       N      4         Y     0.271214   \n",
       "                 27042    39  151       N      4         Y     0.245307   \n",
       "                 27043    40  220       N      4         Y     0.245307   \n",
       "                 27044    41  226       Y      2         Y     0.245307   \n",
       "\n",
       "                        DATA_CNT  PREDICT_DT  \n",
       "REGIONID ITEM                                 \n",
       "A01      ITEM043 2457        146  303.000000  \n",
       "                 2458        146  139.000000  \n",
       "                 2459        146  201.000000  \n",
       "                 2460        146  276.000000  \n",
       "                 2461        146  464.000000  \n",
       "...                          ...         ...  \n",
       "         ITEM376 27040       146  210.500000  \n",
       "                 27041       146  210.500000  \n",
       "                 27042       146  150.428571  \n",
       "                 27043       146  150.428571  \n",
       "                 27044       146  121.000000  \n",
       "\n",
       "[2132 rows x 14 columns]"
      ]
     },
     "execution_count": 250,
     "metadata": {},
     "output_type": "execute_result"
    }
   ],
   "source": [
    "refinedData.groupby(groupKey).apply(groupMl)"
   ]
  },
  {
   "cell_type": "markdown",
   "metadata": {},
   "source": [
    "### 라이브러리 정의"
   ]
  },
  {
   "cell_type": "code",
   "execution_count": 251,
   "metadata": {},
   "outputs": [],
   "source": [
    "# 데이터 처리 라이브러리\n",
    "import pandas as pd\n",
    "import numpy as np\n",
    "# 분석알고리즘 DecisionTree 구현 라이브러리\n",
    "from sklearn.tree import DecisionTreeRegressor \n",
    "# 과거데이터를 8:2, 7:3 이나 이런식으로 자동으로 나누어주는 라이브러리\n",
    "from sklearn.model_selection import train_test_split\n",
    "\n",
    "from sklearn.ensemble import RandomForestRegressor\n",
    "from sklearn.tree import DecisionTreeRegressor \n",
    "from sklearn.linear_model import LinearRegression\n",
    "\n",
    "from sklearn.preprocessing import LabelEncoder\n",
    "\n",
    "from sklearn.metrics import mean_absolute_error\n",
    "from sklearn.metrics import mean_squared_error"
   ]
  },
  {
   "cell_type": "markdown",
   "metadata": {},
   "source": [
    "### 데이터 불러오기"
   ]
  },
  {
   "cell_type": "code",
   "execution_count": 252,
   "metadata": {},
   "outputs": [
    {
     "data": {
      "text/html": [
       "<div>\n",
       "<style scoped>\n",
       "    .dataframe tbody tr th:only-of-type {\n",
       "        vertical-align: middle;\n",
       "    }\n",
       "\n",
       "    .dataframe tbody tr th {\n",
       "        vertical-align: top;\n",
       "    }\n",
       "\n",
       "    .dataframe thead th {\n",
       "        text-align: right;\n",
       "    }\n",
       "</style>\n",
       "<table border=\"1\" class=\"dataframe\">\n",
       "  <thead>\n",
       "    <tr style=\"text-align: right;\">\n",
       "      <th></th>\n",
       "      <th>age</th>\n",
       "      <th>gender</th>\n",
       "      <th>miles</th>\n",
       "      <th>debt</th>\n",
       "      <th>income</th>\n",
       "      <th>sales</th>\n",
       "    </tr>\n",
       "  </thead>\n",
       "  <tbody>\n",
       "    <tr>\n",
       "      <th>0</th>\n",
       "      <td>28</td>\n",
       "      <td>0</td>\n",
       "      <td>23</td>\n",
       "      <td>0</td>\n",
       "      <td>4099</td>\n",
       "      <td>620</td>\n",
       "    </tr>\n",
       "    <tr>\n",
       "      <th>1</th>\n",
       "      <td>26</td>\n",
       "      <td>0</td>\n",
       "      <td>27</td>\n",
       "      <td>0</td>\n",
       "      <td>2677</td>\n",
       "      <td>1792</td>\n",
       "    </tr>\n",
       "  </tbody>\n",
       "</table>\n",
       "</div>"
      ],
      "text/plain": [
       "   age  gender  miles  debt  income  sales\n",
       "0   28       0     23     0    4099    620\n",
       "1   26       0     27     0    2677   1792"
      ]
     },
     "execution_count": 252,
     "metadata": {},
     "output_type": "execute_result"
    }
   ],
   "source": [
    "inputData = \\\n",
    "    pd.read_csv(\"../dataset/cars.csv\")\n",
    "inputData.head(2)"
   ]
  },
  {
   "cell_type": "code",
   "execution_count": 253,
   "metadata": {},
   "outputs": [],
   "source": [
    "import seaborn as sns"
   ]
  },
  {
   "cell_type": "code",
   "execution_count": 254,
   "metadata": {},
   "outputs": [
    {
     "name": "stderr",
     "output_type": "stream",
     "text": [
      "C:\\Users\\kopo\\Anaconda3\\lib\\site-packages\\seaborn\\_decorators.py:36: FutureWarning: Pass the following variable as a keyword arg: x. From version 0.12, the only valid positional argument will be `data`, and passing other arguments without an explicit keyword will result in an error or misinterpretation.\n",
      "  warnings.warn(\n"
     ]
    },
    {
     "data": {
      "text/plain": [
       "<AxesSubplot:xlabel='gender', ylabel='count'>"
      ]
     },
     "execution_count": 254,
     "metadata": {},
     "output_type": "execute_result"
    },
    {
     "data": {
      "image/png": "[encoded data removed]",
      "text/plain": [
       "<Figure size 432x288 with 1 Axes>"
      ]
     },
     "metadata": {
      "needs_background": "light"
     },
     "output_type": "display_data"
    }
   ],
   "source": [
    "sns.countplot(inputData.gender)"
   ]
  },
  {
   "cell_type": "markdown",
   "metadata": {},
   "source": [
    "### 1. 데이터 전처리"
   ]
  },
  {
   "cell_type": "markdown",
   "metadata": {},
   "source": [
    "### 1-1. 타입 통합 / 특성 숫자컬럼 추가"
   ]
  },
  {
   "cell_type": "markdown",
   "metadata": {},
   "source": [
    "### 1-1-1. 데이터 타입 통합"
   ]
  },
  {
   "cell_type": "code",
   "execution_count": 255,
   "metadata": {},
   "outputs": [],
   "source": [
    "# featuresData.info()"
   ]
  },
  {
   "cell_type": "markdown",
   "metadata": {},
   "source": [
    "### 1-1-2. 특성 값 숫자컬럼 변경"
   ]
  },
  {
   "cell_type": "code",
   "execution_count": 256,
   "metadata": {},
   "outputs": [],
   "source": [
    "# skip"
   ]
  },
  {
   "cell_type": "code",
   "execution_count": 257,
   "metadata": {},
   "outputs": [],
   "source": [
    "# featuresData[\"HOLIDAY_NEW\"] = \\\n",
    "#     np.where(featuresData.HOLIDAY==\"Y\",1,0)"
   ]
  },
  {
   "cell_type": "code",
   "execution_count": 258,
   "metadata": {},
   "outputs": [],
   "source": [
    "# featuresData[\"PROMOTION_NEW\"] = \\\n",
    "#     np.where(featuresData.PROMOTION==\"Y\",1,0)"
   ]
  },
  {
   "cell_type": "markdown",
   "metadata": {},
   "source": [
    "### 1-2. 특성 선정 / 데이터 분리"
   ]
  },
  {
   "cell_type": "markdown",
   "metadata": {},
   "source": [
    "### 1-2-1. 특성 선정"
   ]
  },
  {
   "cell_type": "code",
   "execution_count": 259,
   "metadata": {},
   "outputs": [],
   "source": [
    "LABELCOLUMN=\"sales\""
   ]
  },
  {
   "cell_type": "code",
   "execution_count": 260,
   "metadata": {},
   "outputs": [],
   "source": [
    "corrDf = inputData.corr()"
   ]
  },
  {
   "cell_type": "code",
   "execution_count": 261,
   "metadata": {},
   "outputs": [],
   "source": [
    "standardLimit = 0.5"
   ]
  },
  {
   "cell_type": "code",
   "execution_count": 262,
   "metadata": {},
   "outputs": [],
   "source": [
    "features = \\\n",
    "    list(corrDf.loc[ ( abs(corrDf[LABELCOLUMN]) > standardLimit ) & \n",
    "                    (corrDf[LABELCOLUMN] != 1) ].index )"
   ]
  },
  {
   "cell_type": "code",
   "execution_count": 263,
   "metadata": {},
   "outputs": [],
   "source": [
    "label = [LABELCOLUMN]"
   ]
  },
  {
   "cell_type": "markdown",
   "metadata": {},
   "source": [
    "### 1-2-2. 데이터 분리"
   ]
  },
  {
   "cell_type": "code",
   "execution_count": 264,
   "metadata": {},
   "outputs": [],
   "source": [
    "trainingDataFeatures, \\\n",
    "testDataFeatures, \\\n",
    "trainingDataLabel, \\\n",
    "testDataLabel = train_test_split(inputData.loc[:,features],\n",
    "                                 inputData.loc[:,label],\n",
    "                                 test_size=0.2, random_state=5)"
   ]
  },
  {
   "cell_type": "markdown",
   "metadata": {},
   "source": [
    "### 2. 모델적용"
   ]
  },
  {
   "cell_type": "markdown",
   "metadata": {},
   "source": [
    "### 2-1. 모델 적용"
   ]
  },
  {
   "cell_type": "markdown",
   "metadata": {},
   "source": [
    "### 2-1-1 학습"
   ]
  },
  {
   "cell_type": "code",
   "execution_count": 265,
   "metadata": {},
   "outputs": [],
   "source": [
    "# 모델 선언 (Decision, Random)\n",
    "model_dt = DecisionTreeRegressor(random_state=10)\n",
    "model_rf = RandomForestRegressor(random_state=10)\n",
    "model_lr = LinearRegression()"
   ]
  },
  {
   "cell_type": "code",
   "execution_count": 266,
   "metadata": {},
   "outputs": [
    {
     "name": "stderr",
     "output_type": "stream",
     "text": [
      "<ipython-input-266-54507afbb5c1>:2: DataConversionWarning: A column-vector y was passed when a 1d array was expected. Please change the shape of y to (n_samples,), for example using ravel().\n",
      "  model_rf.fit(X=trainingDataFeatures, y=trainingDataLabel)\n"
     ]
    },
    {
     "data": {
      "text/plain": [
       "LinearRegression()"
      ]
     },
     "execution_count": 266,
     "metadata": {},
     "output_type": "execute_result"
    }
   ],
   "source": [
    "model_dt.fit(X=trainingDataFeatures, y=trainingDataLabel)\n",
    "model_rf.fit(X=trainingDataFeatures, y=trainingDataLabel)\n",
    "model_lr.fit(X=trainingDataFeatures, y=trainingDataLabel)"
   ]
  },
  {
   "cell_type": "markdown",
   "metadata": {},
   "source": [
    "### 3. 예측"
   ]
  },
  {
   "cell_type": "code",
   "execution_count": 267,
   "metadata": {},
   "outputs": [],
   "source": [
    "predictValueDt = model_dt.predict(testDataFeatures)\n",
    "predictValueRf = model_rf.predict(testDataFeatures)\n",
    "predictValueLr = model_lr.predict(testDataFeatures)"
   ]
  },
  {
   "cell_type": "code",
   "execution_count": 268,
   "metadata": {},
   "outputs": [],
   "source": [
    "testDataAll = \\\n",
    "    inputData.loc[ testDataFeatures.index ] "
   ]
  },
  {
   "cell_type": "code",
   "execution_count": 269,
   "metadata": {},
   "outputs": [],
   "source": [
    "testDataAll[\"PREDICT_DT\"] = predictValueDt\n",
    "testDataAll[\"PREDICT_RF\"] = predictValueRf"
   ]
  },
  {
   "cell_type": "code",
   "execution_count": 270,
   "metadata": {},
   "outputs": [],
   "source": [
    "testDataAll[\"PREDICT_LR\"] = predictValueLr"
   ]
  },
  {
   "cell_type": "code",
   "execution_count": 271,
   "metadata": {},
   "outputs": [],
   "source": [
    "predictDtMae = mean_absolute_error(y_true=testDataAll[LABELCOLUMN],\n",
    "                    y_pred=testDataAll.PREDICT_DT )\n",
    "predictRfMae = mean_absolute_error(y_true=testDataAll[LABELCOLUMN],\n",
    "                    y_pred=testDataAll.PREDICT_RF )\n",
    "predictLrMae = mean_absolute_error(y_true=testDataAll[LABELCOLUMN],\n",
    "                    y_pred=testDataAll.PREDICT_LR )"
   ]
  },
  {
   "cell_type": "code",
   "execution_count": 272,
   "metadata": {},
   "outputs": [],
   "source": [
    "errorReportDf = pd.DataFrame( [[ predictDtMae, predictRfMae,predictLrMae     ]],\n",
    "            columns=[\"DT_MAE\",\"RF_MAE\",\"LR_MAE\"])"
   ]
  },
  {
   "cell_type": "code",
   "execution_count": 273,
   "metadata": {},
   "outputs": [],
   "source": [
    "testDataAll[\"MAPE\"]=1 - abs(testDataAll[LABELCOLUMN]-testDataAll.PREDICT_RF) / testDataAll[LABELCOLUMN]"
   ]
  },
  {
   "cell_type": "code",
   "execution_count": 274,
   "metadata": {},
   "outputs": [],
   "source": [
    "testDataAll.loc[testDataAll[LABELCOLUMN] < 0, \"MAPE\"] = 0"
   ]
  },
  {
   "cell_type": "code",
   "execution_count": 275,
   "metadata": {},
   "outputs": [
    {
     "data": {
      "text/plain": [
       "0.5797103815006583"
      ]
     },
     "execution_count": 275,
     "metadata": {},
     "output_type": "execute_result"
    }
   ],
   "source": [
    "testDataAll[\"MAPE\"].mean()"
   ]
  },
  {
   "cell_type": "code",
   "execution_count": 276,
   "metadata": {},
   "outputs": [
    {
     "data": {
      "text/html": [
       "<div>\n",
       "<style scoped>\n",
       "    .dataframe tbody tr th:only-of-type {\n",
       "        vertical-align: middle;\n",
       "    }\n",
       "\n",
       "    .dataframe tbody tr th {\n",
       "        vertical-align: top;\n",
       "    }\n",
       "\n",
       "    .dataframe thead th {\n",
       "        text-align: right;\n",
       "    }\n",
       "</style>\n",
       "<table border=\"1\" class=\"dataframe\">\n",
       "  <thead>\n",
       "    <tr style=\"text-align: right;\">\n",
       "      <th></th>\n",
       "      <th>DT_MAE</th>\n",
       "      <th>RF_MAE</th>\n",
       "      <th>LR_MAE</th>\n",
       "    </tr>\n",
       "  </thead>\n",
       "  <tbody>\n",
       "    <tr>\n",
       "      <th>0</th>\n",
       "      <td>2639.056995</td>\n",
       "      <td>2073.81285</td>\n",
       "      <td>2930.90208</td>\n",
       "    </tr>\n",
       "  </tbody>\n",
       "</table>\n",
       "</div>"
      ],
      "text/plain": [
       "        DT_MAE      RF_MAE      LR_MAE\n",
       "0  2639.056995  2073.81285  2930.90208"
      ]
     },
     "execution_count": 276,
     "metadata": {},
     "output_type": "execute_result"
    }
   ],
   "source": [
    "errorReportDf"
   ]
  },
  {
   "cell_type": "code",
   "execution_count": 277,
   "metadata": {},
   "outputs": [
    {
     "data": {
      "text/plain": [
       "['miles', 'debt', 'income']"
      ]
     },
     "execution_count": 277,
     "metadata": {},
     "output_type": "execute_result"
    }
   ],
   "source": [
    "features"
   ]
  },
  {
   "cell_type": "code",
   "execution_count": 281,
   "metadata": {},
   "outputs": [],
   "source": [
    "# # 대휴일 1 소휴일 4\n",
    "# userInputHCLUS = 1\n",
    "# # 제품 할인 %\n",
    "# userInputProPercent=0.5\n",
    "# # 홀리데이 유무 Y= 1 N = 0\n",
    "# userInputHoilidayYn = 1\n",
    "# # 프로모션 유무 Y=1 N= 0\n",
    "# userInputPromotionYn = 1"
   ]
  },
  {
   "cell_type": "code",
   "execution_count": 282,
   "metadata": {},
   "outputs": [],
   "source": [
    "# futureData = pd.DataFrame([[ userInputHCLUS,\n",
    "#               userInputProPercent,\n",
    "#               userInputHoilidayYn,\n",
    "#               userInputPromotionYn]]   )"
   ]
  },
  {
   "cell_type": "code",
   "execution_count": 283,
   "metadata": {},
   "outputs": [],
   "source": [
    "# # pickle 파일로 저장가능하다.\n",
    "# model_dt.predict(futureData)"
   ]
  },
  {
   "cell_type": "code",
   "execution_count": 37,
   "metadata": {},
   "outputs": [
    {
     "data": {
      "text/html": [
       "<div>\n",
       "<style scoped>\n",
       "    .dataframe tbody tr th:only-of-type {\n",
       "        vertical-align: middle;\n",
       "    }\n",
       "\n",
       "    .dataframe tbody tr th {\n",
       "        vertical-align: top;\n",
       "    }\n",
       "\n",
       "    .dataframe thead th {\n",
       "        text-align: right;\n",
       "    }\n",
       "</style>\n",
       "<table border=\"1\" class=\"dataframe\">\n",
       "  <thead>\n",
       "    <tr style=\"text-align: right;\">\n",
       "      <th></th>\n",
       "      <th>REGIONID</th>\n",
       "      <th>PRODUCTGROUP</th>\n",
       "      <th>PRODUCT</th>\n",
       "      <th>ITEM</th>\n",
       "      <th>YEARWEEK</th>\n",
       "      <th>YEAR</th>\n",
       "      <th>WEEK</th>\n",
       "      <th>QTY</th>\n",
       "      <th>HOLIDAY</th>\n",
       "      <th>HCLUS</th>\n",
       "      <th>PROMOTION</th>\n",
       "      <th>PRO_PERCENT</th>\n",
       "      <th>HOLIDAY_NEW</th>\n",
       "      <th>PROMOTION_NEW</th>\n",
       "    </tr>\n",
       "  </thead>\n",
       "  <tbody>\n",
       "    <tr>\n",
       "      <th>77</th>\n",
       "      <td>SEOUL_BANK_001</td>\n",
       "      <td>PG02</td>\n",
       "      <td>PRODUCT0010</td>\n",
       "      <td>ITEM0115</td>\n",
       "      <td>201625</td>\n",
       "      <td>2016</td>\n",
       "      <td>25</td>\n",
       "      <td>968.0</td>\n",
       "      <td>Y</td>\n",
       "      <td>1</td>\n",
       "      <td>Y</td>\n",
       "      <td>0.308584</td>\n",
       "      <td>1</td>\n",
       "      <td>1</td>\n",
       "    </tr>\n",
       "    <tr>\n",
       "      <th>78</th>\n",
       "      <td>SEOUL_BANK_001</td>\n",
       "      <td>PG02</td>\n",
       "      <td>PRODUCT0010</td>\n",
       "      <td>ITEM0115</td>\n",
       "      <td>201626</td>\n",
       "      <td>2016</td>\n",
       "      <td>26</td>\n",
       "      <td>1685.0</td>\n",
       "      <td>Y</td>\n",
       "      <td>1</td>\n",
       "      <td>Y</td>\n",
       "      <td>0.308584</td>\n",
       "      <td>1</td>\n",
       "      <td>1</td>\n",
       "    </tr>\n",
       "    <tr>\n",
       "      <th>79</th>\n",
       "      <td>SEOUL_BANK_001</td>\n",
       "      <td>PG02</td>\n",
       "      <td>PRODUCT0010</td>\n",
       "      <td>ITEM0115</td>\n",
       "      <td>201627</td>\n",
       "      <td>2016</td>\n",
       "      <td>27</td>\n",
       "      <td>1586.0</td>\n",
       "      <td>Y</td>\n",
       "      <td>1</td>\n",
       "      <td>Y</td>\n",
       "      <td>0.308584</td>\n",
       "      <td>1</td>\n",
       "      <td>1</td>\n",
       "    </tr>\n",
       "    <tr>\n",
       "      <th>80</th>\n",
       "      <td>SEOUL_BANK_001</td>\n",
       "      <td>PG02</td>\n",
       "      <td>PRODUCT0010</td>\n",
       "      <td>ITEM0115</td>\n",
       "      <td>201628</td>\n",
       "      <td>2016</td>\n",
       "      <td>28</td>\n",
       "      <td>1616.0</td>\n",
       "      <td>Y</td>\n",
       "      <td>1</td>\n",
       "      <td>Y</td>\n",
       "      <td>0.308584</td>\n",
       "      <td>1</td>\n",
       "      <td>1</td>\n",
       "    </tr>\n",
       "    <tr>\n",
       "      <th>81</th>\n",
       "      <td>SEOUL_BANK_001</td>\n",
       "      <td>PG02</td>\n",
       "      <td>PRODUCT0010</td>\n",
       "      <td>ITEM0115</td>\n",
       "      <td>201629</td>\n",
       "      <td>2016</td>\n",
       "      <td>29</td>\n",
       "      <td>1318.0</td>\n",
       "      <td>Y</td>\n",
       "      <td>1</td>\n",
       "      <td>Y</td>\n",
       "      <td>0.308584</td>\n",
       "      <td>1</td>\n",
       "      <td>1</td>\n",
       "    </tr>\n",
       "  </tbody>\n",
       "</table>\n",
       "</div>"
      ],
      "text/plain": [
       "          REGIONID PRODUCTGROUP      PRODUCT      ITEM  YEARWEEK  YEAR  WEEK  \\\n",
       "77  SEOUL_BANK_001         PG02  PRODUCT0010  ITEM0115    201625  2016    25   \n",
       "78  SEOUL_BANK_001         PG02  PRODUCT0010  ITEM0115    201626  2016    26   \n",
       "79  SEOUL_BANK_001         PG02  PRODUCT0010  ITEM0115    201627  2016    27   \n",
       "80  SEOUL_BANK_001         PG02  PRODUCT0010  ITEM0115    201628  2016    28   \n",
       "81  SEOUL_BANK_001         PG02  PRODUCT0010  ITEM0115    201629  2016    29   \n",
       "\n",
       "       QTY HOLIDAY  HCLUS PROMOTION  PRO_PERCENT  HOLIDAY_NEW  PROMOTION_NEW  \n",
       "77   968.0       Y      1         Y     0.308584            1              1  \n",
       "78  1685.0       Y      1         Y     0.308584            1              1  \n",
       "79  1586.0       Y      1         Y     0.308584            1              1  \n",
       "80  1616.0       Y      1         Y     0.308584            1              1  \n",
       "81  1318.0       Y      1         Y     0.308584            1              1  "
      ]
     },
     "execution_count": 37,
     "metadata": {},
     "output_type": "execute_result"
    }
   ],
   "source": [
    "featuresData.loc[  treeStep3.index ]"
   ]
  },
  {
   "cell_type": "code",
   "execution_count": 38,
   "metadata": {},
   "outputs": [
    {
     "data": {
      "text/plain": [
       "1434.6"
      ]
     },
     "execution_count": 38,
     "metadata": {},
     "output_type": "execute_result"
    }
   ],
   "source": [
    "trainingDataLabel.loc[treeStep3.index].QTY.mean()"
   ]
  },
  {
   "cell_type": "markdown",
   "metadata": {},
   "source": [
    "# graphviz 시각화"
   ]
  },
  {
   "cell_type": "code",
   "execution_count": 39,
   "metadata": {},
   "outputs": [
    {
     "data": {
      "image/svg+xml": [
       "<?xml version=\"1.0\" encoding=\"UTF-8\" standalone=\"no\"?>\r\n",
       "<!DOCTYPE svg PUBLIC \"-//W3C//DTD SVG 1.1//EN\"\r\n",
       " \"http://www.w3.org/Graphics/SVG/1.1/DTD/svg11.dtd\">\r\n",
       "<!-- Generated by graphviz version 2.38.0 (20140413.2041)\r\n",
       " -->\r\n",
       "<!-- Title: Tree Pages: 1 -->\r\n",
       "<svg width=\"1095pt\" height=\"581pt\"\r\n",
       " viewBox=\"0.00 0.00 1094.50 581.00\" xmlns=\"http://www.w3.org/2000/svg\" xmlns:xlink=\"http://www.w3.org/1999/xlink\">\r\n",
       "<g id=\"graph0\" class=\"graph\" transform=\"scale(1 1) rotate(0) translate(4 577)\">\r\n",
       "<title>Tree</title>\r\n",
       "<polygon fill=\"white\" stroke=\"none\" points=\"-4,4 -4,-577 1090.5,-577 1090.5,4 -4,4\"/>\r\n",
       "<!-- 0 -->\r\n",
       "<g id=\"node1\" class=\"node\"><title>0</title>\r\n",
       "<polygon fill=\"none\" stroke=\"black\" points=\"549.5,-573 430.5,-573 430.5,-505 549.5,-505 549.5,-573\"/>\r\n",
       "<text text-anchor=\"middle\" x=\"490\" y=\"-557.8\" font-family=\"Times New Roman,serif\" font-size=\"14.00\">X[1] &lt;= 0.224</text>\r\n",
       "<text text-anchor=\"middle\" x=\"490\" y=\"-542.8\" font-family=\"Times New Roman,serif\" font-size=\"14.00\">mse = 705743.893</text>\r\n",
       "<text text-anchor=\"middle\" x=\"490\" y=\"-527.8\" font-family=\"Times New Roman,serif\" font-size=\"14.00\">samples = 54</text>\r\n",
       "<text text-anchor=\"middle\" x=\"490\" y=\"-512.8\" font-family=\"Times New Roman,serif\" font-size=\"14.00\">value = 1091.035</text>\r\n",
       "</g>\r\n",
       "<!-- 1 -->\r\n",
       "<g id=\"node2\" class=\"node\"><title>1</title>\r\n",
       "<polygon fill=\"none\" stroke=\"black\" points=\"451.5,-469 332.5,-469 332.5,-401 451.5,-401 451.5,-469\"/>\r\n",
       "<text text-anchor=\"middle\" x=\"392\" y=\"-453.8\" font-family=\"Times New Roman,serif\" font-size=\"14.00\">X[3] &lt;= 0.5</text>\r\n",
       "<text text-anchor=\"middle\" x=\"392\" y=\"-438.8\" font-family=\"Times New Roman,serif\" font-size=\"14.00\">mse = 179791.215</text>\r\n",
       "<text text-anchor=\"middle\" x=\"392\" y=\"-423.8\" font-family=\"Times New Roman,serif\" font-size=\"14.00\">samples = 35</text>\r\n",
       "<text text-anchor=\"middle\" x=\"392\" y=\"-408.8\" font-family=\"Times New Roman,serif\" font-size=\"14.00\">value = 655.145</text>\r\n",
       "</g>\r\n",
       "<!-- 0&#45;&gt;1 -->\r\n",
       "<g id=\"edge1\" class=\"edge\"><title>0&#45;&gt;1</title>\r\n",
       "<path fill=\"none\" stroke=\"black\" d=\"M458.182,-504.884C449.539,-495.887 440.078,-486.041 431.083,-476.678\"/>\r\n",
       "<polygon fill=\"black\" stroke=\"black\" points=\"433.446,-474.086 423.994,-469.299 428.398,-478.935 433.446,-474.086\"/>\r\n",
       "<text text-anchor=\"middle\" x=\"423.494\" y=\"-490.594\" font-family=\"Times New Roman,serif\" font-size=\"14.00\">True</text>\r\n",
       "</g>\r\n",
       "<!-- 16 -->\r\n",
       "<g id=\"node17\" class=\"node\"><title>16</title>\r\n",
       "<polygon fill=\"none\" stroke=\"black\" points=\"648.5,-469 529.5,-469 529.5,-401 648.5,-401 648.5,-469\"/>\r\n",
       "<text text-anchor=\"middle\" x=\"589\" y=\"-453.8\" font-family=\"Times New Roman,serif\" font-size=\"14.00\">X[1] &lt;= 0.259</text>\r\n",
       "<text text-anchor=\"middle\" x=\"589\" y=\"-438.8\" font-family=\"Times New Roman,serif\" font-size=\"14.00\">mse = 683046.272</text>\r\n",
       "<text text-anchor=\"middle\" x=\"589\" y=\"-423.8\" font-family=\"Times New Roman,serif\" font-size=\"14.00\">samples = 19</text>\r\n",
       "<text text-anchor=\"middle\" x=\"589\" y=\"-408.8\" font-family=\"Times New Roman,serif\" font-size=\"14.00\">value = 1890.167</text>\r\n",
       "</g>\r\n",
       "<!-- 0&#45;&gt;16 -->\r\n",
       "<g id=\"edge16\" class=\"edge\"><title>0&#45;&gt;16</title>\r\n",
       "<path fill=\"none\" stroke=\"black\" d=\"M522.142,-504.884C530.874,-495.887 540.431,-486.041 549.518,-476.678\"/>\r\n",
       "<polygon fill=\"black\" stroke=\"black\" points=\"552.227,-478.913 556.68,-469.299 547.204,-474.038 552.227,-478.913\"/>\r\n",
       "<text text-anchor=\"middle\" x=\"557.053\" y=\"-490.597\" font-family=\"Times New Roman,serif\" font-size=\"14.00\">False</text>\r\n",
       "</g>\r\n",
       "<!-- 2 -->\r\n",
       "<g id=\"node3\" class=\"node\"><title>2</title>\r\n",
       "<polygon fill=\"none\" stroke=\"black\" points=\"223.5,-365 110.5,-365 110.5,-297 223.5,-297 223.5,-365\"/>\r\n",
       "<text text-anchor=\"middle\" x=\"167\" y=\"-349.8\" font-family=\"Times New Roman,serif\" font-size=\"14.00\">X[2] &lt;= 0.5</text>\r\n",
       "<text text-anchor=\"middle\" x=\"167\" y=\"-334.8\" font-family=\"Times New Roman,serif\" font-size=\"14.00\">mse = 61459.735</text>\r\n",
       "<text text-anchor=\"middle\" x=\"167\" y=\"-319.8\" font-family=\"Times New Roman,serif\" font-size=\"14.00\">samples = 15</text>\r\n",
       "<text text-anchor=\"middle\" x=\"167\" y=\"-304.8\" font-family=\"Times New Roman,serif\" font-size=\"14.00\">value = 343.269</text>\r\n",
       "</g>\r\n",
       "<!-- 1&#45;&gt;2 -->\r\n",
       "<g id=\"edge2\" class=\"edge\"><title>1&#45;&gt;2</title>\r\n",
       "<path fill=\"none\" stroke=\"black\" d=\"M332.295,-406.934C301.724,-393.075 264.425,-376.166 233.001,-361.921\"/>\r\n",
       "<polygon fill=\"black\" stroke=\"black\" points=\"234.432,-358.726 223.879,-357.785 231.542,-365.102 234.432,-358.726\"/>\r\n",
       "</g>\r\n",
       "<!-- 5 -->\r\n",
       "<g id=\"node6\" class=\"node\"><title>5</title>\r\n",
       "<polygon fill=\"none\" stroke=\"black\" points=\"451.5,-365 332.5,-365 332.5,-297 451.5,-297 451.5,-365\"/>\r\n",
       "<text text-anchor=\"middle\" x=\"392\" y=\"-349.8\" font-family=\"Times New Roman,serif\" font-size=\"14.00\">X[0] &lt;= 3.0</text>\r\n",
       "<text text-anchor=\"middle\" x=\"392\" y=\"-334.8\" font-family=\"Times New Roman,serif\" font-size=\"14.00\">mse = 120493.287</text>\r\n",
       "<text text-anchor=\"middle\" x=\"392\" y=\"-319.8\" font-family=\"Times New Roman,serif\" font-size=\"14.00\">samples = 20</text>\r\n",
       "<text text-anchor=\"middle\" x=\"392\" y=\"-304.8\" font-family=\"Times New Roman,serif\" font-size=\"14.00\">value = 934.759</text>\r\n",
       "</g>\r\n",
       "<!-- 1&#45;&gt;5 -->\r\n",
       "<g id=\"edge5\" class=\"edge\"><title>1&#45;&gt;5</title>\r\n",
       "<path fill=\"none\" stroke=\"black\" d=\"M392,-400.884C392,-392.778 392,-383.982 392,-375.472\"/>\r\n",
       "<polygon fill=\"black\" stroke=\"black\" points=\"395.5,-375.299 392,-365.299 388.5,-375.299 395.5,-375.299\"/>\r\n",
       "</g>\r\n",
       "<!-- 3 -->\r\n",
       "<g id=\"node4\" class=\"node\"><title>3</title>\r\n",
       "<polygon fill=\"none\" stroke=\"black\" points=\"106,-253.5 0,-253.5 0,-200.5 106,-200.5 106,-253.5\"/>\r\n",
       "<text text-anchor=\"middle\" x=\"53\" y=\"-238.3\" font-family=\"Times New Roman,serif\" font-size=\"14.00\">mse = 59435.28</text>\r\n",
       "<text text-anchor=\"middle\" x=\"53\" y=\"-223.3\" font-family=\"Times New Roman,serif\" font-size=\"14.00\">samples = 14</text>\r\n",
       "<text text-anchor=\"middle\" x=\"53\" y=\"-208.3\" font-family=\"Times New Roman,serif\" font-size=\"14.00\">value = 356.4</text>\r\n",
       "</g>\r\n",
       "<!-- 2&#45;&gt;3 -->\r\n",
       "<g id=\"edge3\" class=\"edge\"><title>2&#45;&gt;3</title>\r\n",
       "<path fill=\"none\" stroke=\"black\" d=\"M129.987,-296.884C116.835,-285.116 102.058,-271.894 88.992,-260.203\"/>\r\n",
       "<polygon fill=\"black\" stroke=\"black\" points=\"91.3085,-257.58 81.5223,-253.52 86.6409,-262.796 91.3085,-257.58\"/>\r\n",
       "</g>\r\n",
       "<!-- 4 -->\r\n",
       "<g id=\"node5\" class=\"node\"><title>4</title>\r\n",
       "<polygon fill=\"none\" stroke=\"black\" points=\"209.5,-253.5 124.5,-253.5 124.5,-200.5 209.5,-200.5 209.5,-253.5\"/>\r\n",
       "<text text-anchor=\"middle\" x=\"167\" y=\"-238.3\" font-family=\"Times New Roman,serif\" font-size=\"14.00\">mse = 0.0</text>\r\n",
       "<text text-anchor=\"middle\" x=\"167\" y=\"-223.3\" font-family=\"Times New Roman,serif\" font-size=\"14.00\">samples = 1</text>\r\n",
       "<text text-anchor=\"middle\" x=\"167\" y=\"-208.3\" font-family=\"Times New Roman,serif\" font-size=\"14.00\">value = 15.0</text>\r\n",
       "</g>\r\n",
       "<!-- 2&#45;&gt;4 -->\r\n",
       "<g id=\"edge4\" class=\"edge\"><title>2&#45;&gt;4</title>\r\n",
       "<path fill=\"none\" stroke=\"black\" d=\"M167,-296.884C167,-286.326 167,-274.597 167,-263.854\"/>\r\n",
       "<polygon fill=\"black\" stroke=\"black\" points=\"170.5,-263.52 167,-253.52 163.5,-263.52 170.5,-263.52\"/>\r\n",
       "</g>\r\n",
       "<!-- 6 -->\r\n",
       "<g id=\"node7\" class=\"node\"><title>6</title>\r\n",
       "<polygon fill=\"none\" stroke=\"black\" points=\"346.5,-261 227.5,-261 227.5,-193 346.5,-193 346.5,-261\"/>\r\n",
       "<text text-anchor=\"middle\" x=\"287\" y=\"-245.8\" font-family=\"Times New Roman,serif\" font-size=\"14.00\">X[1] &lt;= 0.209</text>\r\n",
       "<text text-anchor=\"middle\" x=\"287\" y=\"-230.8\" font-family=\"Times New Roman,serif\" font-size=\"14.00\">mse = 107783.633</text>\r\n",
       "<text text-anchor=\"middle\" x=\"287\" y=\"-215.8\" font-family=\"Times New Roman,serif\" font-size=\"14.00\">samples = 5</text>\r\n",
       "<text text-anchor=\"middle\" x=\"287\" y=\"-200.8\" font-family=\"Times New Roman,serif\" font-size=\"14.00\">value = 1132.286</text>\r\n",
       "</g>\r\n",
       "<!-- 5&#45;&gt;6 -->\r\n",
       "<g id=\"edge6\" class=\"edge\"><title>5&#45;&gt;6</title>\r\n",
       "<path fill=\"none\" stroke=\"black\" d=\"M357.91,-296.884C348.557,-287.798 338.312,-277.845 328.589,-268.4\"/>\r\n",
       "<polygon fill=\"black\" stroke=\"black\" points=\"330.89,-265.757 321.279,-261.299 326.013,-270.778 330.89,-265.757\"/>\r\n",
       "</g>\r\n",
       "<!-- 13 -->\r\n",
       "<g id=\"node14\" class=\"node\"><title>13</title>\r\n",
       "<polygon fill=\"none\" stroke=\"black\" points=\"483.5,-261 364.5,-261 364.5,-193 483.5,-193 483.5,-261\"/>\r\n",
       "<text text-anchor=\"middle\" x=\"424\" y=\"-245.8\" font-family=\"Times New Roman,serif\" font-size=\"14.00\">X[1] &lt;= 0.209</text>\r\n",
       "<text text-anchor=\"middle\" x=\"424\" y=\"-230.8\" font-family=\"Times New Roman,serif\" font-size=\"14.00\">mse = 108172.719</text>\r\n",
       "<text text-anchor=\"middle\" x=\"424\" y=\"-215.8\" font-family=\"Times New Roman,serif\" font-size=\"14.00\">samples = 15</text>\r\n",
       "<text text-anchor=\"middle\" x=\"424\" y=\"-200.8\" font-family=\"Times New Roman,serif\" font-size=\"14.00\">value = 871.909</text>\r\n",
       "</g>\r\n",
       "<!-- 5&#45;&gt;13 -->\r\n",
       "<g id=\"edge13\" class=\"edge\"><title>5&#45;&gt;13</title>\r\n",
       "<path fill=\"none\" stroke=\"black\" d=\"M402.389,-296.884C404.988,-288.6 407.813,-279.595 410.538,-270.911\"/>\r\n",
       "<polygon fill=\"black\" stroke=\"black\" points=\"413.899,-271.889 413.553,-261.299 407.22,-269.793 413.899,-271.889\"/>\r\n",
       "</g>\r\n",
       "<!-- 7 -->\r\n",
       "<g id=\"node8\" class=\"node\"><title>7</title>\r\n",
       "<polygon fill=\"none\" stroke=\"black\" points=\"217,-157 111,-157 111,-89 217,-89 217,-157\"/>\r\n",
       "<text text-anchor=\"middle\" x=\"164\" y=\"-141.8\" font-family=\"Times New Roman,serif\" font-size=\"14.00\">X[0] &lt;= 1.5</text>\r\n",
       "<text text-anchor=\"middle\" x=\"164\" y=\"-126.8\" font-family=\"Times New Roman,serif\" font-size=\"14.00\">mse = 176400.0</text>\r\n",
       "<text text-anchor=\"middle\" x=\"164\" y=\"-111.8\" font-family=\"Times New Roman,serif\" font-size=\"14.00\">samples = 2</text>\r\n",
       "<text text-anchor=\"middle\" x=\"164\" y=\"-96.8\" font-family=\"Times New Roman,serif\" font-size=\"14.00\">value = 1390.0</text>\r\n",
       "</g>\r\n",
       "<!-- 6&#45;&gt;7 -->\r\n",
       "<g id=\"edge7\" class=\"edge\"><title>6&#45;&gt;7</title>\r\n",
       "<path fill=\"none\" stroke=\"black\" d=\"M247.065,-192.884C235.895,-183.62 223.637,-173.455 212.049,-163.845\"/>\r\n",
       "<polygon fill=\"black\" stroke=\"black\" points=\"214.087,-160.989 204.155,-157.299 209.619,-166.377 214.087,-160.989\"/>\r\n",
       "</g>\r\n",
       "<!-- 10 -->\r\n",
       "<g id=\"node11\" class=\"node\"><title>10</title>\r\n",
       "<polygon fill=\"none\" stroke=\"black\" points=\"341,-157 235,-157 235,-89 341,-89 341,-157\"/>\r\n",
       "<text text-anchor=\"middle\" x=\"288\" y=\"-141.8\" font-family=\"Times New Roman,serif\" font-size=\"14.00\">X[0] &lt;= 1.5</text>\r\n",
       "<text text-anchor=\"middle\" x=\"288\" y=\"-126.8\" font-family=\"Times New Roman,serif\" font-size=\"14.00\">mse = 43143.76</text>\r\n",
       "<text text-anchor=\"middle\" x=\"288\" y=\"-111.8\" font-family=\"Times New Roman,serif\" font-size=\"14.00\">samples = 3</text>\r\n",
       "<text text-anchor=\"middle\" x=\"288\" y=\"-96.8\" font-family=\"Times New Roman,serif\" font-size=\"14.00\">value = 1029.2</text>\r\n",
       "</g>\r\n",
       "<!-- 6&#45;&gt;10 -->\r\n",
       "<g id=\"edge10\" class=\"edge\"><title>6&#45;&gt;10</title>\r\n",
       "<path fill=\"none\" stroke=\"black\" d=\"M287.325,-192.884C287.404,-184.778 287.49,-175.982 287.574,-167.472\"/>\r\n",
       "<polygon fill=\"black\" stroke=\"black\" points=\"291.075,-167.333 287.674,-157.299 284.076,-167.265 291.075,-167.333\"/>\r\n",
       "</g>\r\n",
       "<!-- 8 -->\r\n",
       "<g id=\"node9\" class=\"node\"><title>8</title>\r\n",
       "<polygon fill=\"none\" stroke=\"black\" points=\"99,-53 7,-53 7,-0 99,-0 99,-53\"/>\r\n",
       "<text text-anchor=\"middle\" x=\"53\" y=\"-37.8\" font-family=\"Times New Roman,serif\" font-size=\"14.00\">mse = 0.0</text>\r\n",
       "<text text-anchor=\"middle\" x=\"53\" y=\"-22.8\" font-family=\"Times New Roman,serif\" font-size=\"14.00\">samples = 1</text>\r\n",
       "<text text-anchor=\"middle\" x=\"53\" y=\"-7.8\" font-family=\"Times New Roman,serif\" font-size=\"14.00\">value = 970.0</text>\r\n",
       "</g>\r\n",
       "<!-- 7&#45;&gt;8 -->\r\n",
       "<g id=\"edge8\" class=\"edge\"><title>7&#45;&gt;8</title>\r\n",
       "<path fill=\"none\" stroke=\"black\" d=\"M125.178,-88.9485C114.11,-79.526 102.067,-69.2731 91.046,-59.8906\"/>\r\n",
       "<polygon fill=\"black\" stroke=\"black\" points=\"93.1136,-57.0542 83.2304,-53.2367 88.5759,-62.3842 93.1136,-57.0542\"/>\r\n",
       "</g>\r\n",
       "<!-- 9 -->\r\n",
       "<g id=\"node10\" class=\"node\"><title>9</title>\r\n",
       "<polygon fill=\"none\" stroke=\"black\" points=\"215,-53 117,-53 117,-0 215,-0 215,-53\"/>\r\n",
       "<text text-anchor=\"middle\" x=\"166\" y=\"-37.8\" font-family=\"Times New Roman,serif\" font-size=\"14.00\">mse = 0.0</text>\r\n",
       "<text text-anchor=\"middle\" x=\"166\" y=\"-22.8\" font-family=\"Times New Roman,serif\" font-size=\"14.00\">samples = 1</text>\r\n",
       "<text text-anchor=\"middle\" x=\"166\" y=\"-7.8\" font-family=\"Times New Roman,serif\" font-size=\"14.00\">value = 1810.0</text>\r\n",
       "</g>\r\n",
       "<!-- 7&#45;&gt;9 -->\r\n",
       "<g id=\"edge9\" class=\"edge\"><title>7&#45;&gt;9</title>\r\n",
       "<path fill=\"none\" stroke=\"black\" d=\"M164.7,-88.9485C164.874,-80.7153 165.061,-71.848 165.238,-63.4814\"/>\r\n",
       "<polygon fill=\"black\" stroke=\"black\" points=\"168.743,-63.3086 165.455,-53.2367 161.744,-63.1604 168.743,-63.3086\"/>\r\n",
       "</g>\r\n",
       "<!-- 11 -->\r\n",
       "<g id=\"node12\" class=\"node\"><title>11</title>\r\n",
       "<polygon fill=\"none\" stroke=\"black\" points=\"335,-53 237,-53 237,-0 335,-0 335,-53\"/>\r\n",
       "<text text-anchor=\"middle\" x=\"286\" y=\"-37.8\" font-family=\"Times New Roman,serif\" font-size=\"14.00\">mse = 3025.0</text>\r\n",
       "<text text-anchor=\"middle\" x=\"286\" y=\"-22.8\" font-family=\"Times New Roman,serif\" font-size=\"14.00\">samples = 2</text>\r\n",
       "<text text-anchor=\"middle\" x=\"286\" y=\"-7.8\" font-family=\"Times New Roman,serif\" font-size=\"14.00\">value = 1280.0</text>\r\n",
       "</g>\r\n",
       "<!-- 10&#45;&gt;11 -->\r\n",
       "<g id=\"edge11\" class=\"edge\"><title>10&#45;&gt;11</title>\r\n",
       "<path fill=\"none\" stroke=\"black\" d=\"M287.3,-88.9485C287.126,-80.7153 286.939,-71.848 286.762,-63.4814\"/>\r\n",
       "<polygon fill=\"black\" stroke=\"black\" points=\"290.256,-63.1604 286.545,-53.2367 283.257,-63.3086 290.256,-63.1604\"/>\r\n",
       "</g>\r\n",
       "<!-- 12 -->\r\n",
       "<g id=\"node13\" class=\"node\"><title>12</title>\r\n",
       "<polygon fill=\"none\" stroke=\"black\" points=\"445,-53 353,-53 353,-0 445,-0 445,-53\"/>\r\n",
       "<text text-anchor=\"middle\" x=\"399\" y=\"-37.8\" font-family=\"Times New Roman,serif\" font-size=\"14.00\">mse = 0.0</text>\r\n",
       "<text text-anchor=\"middle\" x=\"399\" y=\"-22.8\" font-family=\"Times New Roman,serif\" font-size=\"14.00\">samples = 1</text>\r\n",
       "<text text-anchor=\"middle\" x=\"399\" y=\"-7.8\" font-family=\"Times New Roman,serif\" font-size=\"14.00\">value = 862.0</text>\r\n",
       "</g>\r\n",
       "<!-- 10&#45;&gt;12 -->\r\n",
       "<g id=\"edge12\" class=\"edge\"><title>10&#45;&gt;12</title>\r\n",
       "<path fill=\"none\" stroke=\"black\" d=\"M326.822,-88.9485C337.89,-79.526 349.933,-69.2731 360.954,-59.8906\"/>\r\n",
       "<polygon fill=\"black\" stroke=\"black\" points=\"363.424,-62.3842 368.77,-53.2367 358.886,-57.0542 363.424,-62.3842\"/>\r\n",
       "</g>\r\n",
       "<!-- 14 -->\r\n",
       "<g id=\"node15\" class=\"node\"><title>14</title>\r\n",
       "<polygon fill=\"none\" stroke=\"black\" points=\"481.5,-149.5 362.5,-149.5 362.5,-96.5 481.5,-96.5 481.5,-149.5\"/>\r\n",
       "<text text-anchor=\"middle\" x=\"422\" y=\"-134.3\" font-family=\"Times New Roman,serif\" font-size=\"14.00\">mse = 133598.852</text>\r\n",
       "<text text-anchor=\"middle\" x=\"422\" y=\"-119.3\" font-family=\"Times New Roman,serif\" font-size=\"14.00\">samples = 8</text>\r\n",
       "<text text-anchor=\"middle\" x=\"422\" y=\"-104.3\" font-family=\"Times New Roman,serif\" font-size=\"14.00\">value = 942.615</text>\r\n",
       "</g>\r\n",
       "<!-- 13&#45;&gt;14 -->\r\n",
       "<g id=\"edge14\" class=\"edge\"><title>13&#45;&gt;14</title>\r\n",
       "<path fill=\"none\" stroke=\"black\" d=\"M423.351,-192.884C423.141,-182.216 422.909,-170.352 422.696,-159.519\"/>\r\n",
       "<polygon fill=\"black\" stroke=\"black\" points=\"426.196,-159.449 422.5,-149.52 419.197,-159.587 426.196,-159.449\"/>\r\n",
       "</g>\r\n",
       "<!-- 15 -->\r\n",
       "<g id=\"node16\" class=\"node\"><title>15</title>\r\n",
       "<polygon fill=\"none\" stroke=\"black\" points=\"612.5,-149.5 499.5,-149.5 499.5,-96.5 612.5,-96.5 612.5,-149.5\"/>\r\n",
       "<text text-anchor=\"middle\" x=\"556\" y=\"-134.3\" font-family=\"Times New Roman,serif\" font-size=\"14.00\">mse = 53793.951</text>\r\n",
       "<text text-anchor=\"middle\" x=\"556\" y=\"-119.3\" font-family=\"Times New Roman,serif\" font-size=\"14.00\">samples = 7</text>\r\n",
       "<text text-anchor=\"middle\" x=\"556\" y=\"-104.3\" font-family=\"Times New Roman,serif\" font-size=\"14.00\">value = 769.778</text>\r\n",
       "</g>\r\n",
       "<!-- 13&#45;&gt;15 -->\r\n",
       "<g id=\"edge15\" class=\"edge\"><title>13&#45;&gt;15</title>\r\n",
       "<path fill=\"none\" stroke=\"black\" d=\"M466.857,-192.884C482.228,-181.006 499.517,-167.646 514.749,-155.876\"/>\r\n",
       "<polygon fill=\"black\" stroke=\"black\" points=\"517.201,-158.404 522.974,-149.52 512.921,-152.865 517.201,-158.404\"/>\r\n",
       "</g>\r\n",
       "<!-- 17 -->\r\n",
       "<g id=\"node18\" class=\"node\"><title>17</title>\r\n",
       "<polygon fill=\"none\" stroke=\"black\" points=\"648.5,-365 529.5,-365 529.5,-297 648.5,-297 648.5,-365\"/>\r\n",
       "<text text-anchor=\"middle\" x=\"589\" y=\"-349.8\" font-family=\"Times New Roman,serif\" font-size=\"14.00\">X[0] &lt;= 2.5</text>\r\n",
       "<text text-anchor=\"middle\" x=\"589\" y=\"-334.8\" font-family=\"Times New Roman,serif\" font-size=\"14.00\">mse = 229003.243</text>\r\n",
       "<text text-anchor=\"middle\" x=\"589\" y=\"-319.8\" font-family=\"Times New Roman,serif\" font-size=\"14.00\">samples = 7</text>\r\n",
       "<text text-anchor=\"middle\" x=\"589\" y=\"-304.8\" font-family=\"Times New Roman,serif\" font-size=\"14.00\">value = 1409.083</text>\r\n",
       "</g>\r\n",
       "<!-- 16&#45;&gt;17 -->\r\n",
       "<g id=\"edge17\" class=\"edge\"><title>16&#45;&gt;17</title>\r\n",
       "<path fill=\"none\" stroke=\"black\" d=\"M589,-400.884C589,-392.778 589,-383.982 589,-375.472\"/>\r\n",
       "<polygon fill=\"black\" stroke=\"black\" points=\"592.5,-375.299 589,-365.299 585.5,-375.299 592.5,-375.299\"/>\r\n",
       "</g>\r\n",
       "<!-- 20 -->\r\n",
       "<g id=\"node21\" class=\"node\"><title>20</title>\r\n",
       "<polygon fill=\"none\" stroke=\"black\" points=\"888.5,-365 769.5,-365 769.5,-297 888.5,-297 888.5,-365\"/>\r\n",
       "<text text-anchor=\"middle\" x=\"829\" y=\"-349.8\" font-family=\"Times New Roman,serif\" font-size=\"14.00\">X[0] &lt;= 0.5</text>\r\n",
       "<text text-anchor=\"middle\" x=\"829\" y=\"-334.8\" font-family=\"Times New Roman,serif\" font-size=\"14.00\">mse = 728584.765</text>\r\n",
       "<text text-anchor=\"middle\" x=\"829\" y=\"-319.8\" font-family=\"Times New Roman,serif\" font-size=\"14.00\">samples = 12</text>\r\n",
       "<text text-anchor=\"middle\" x=\"829\" y=\"-304.8\" font-family=\"Times New Roman,serif\" font-size=\"14.00\">value = 2210.889</text>\r\n",
       "</g>\r\n",
       "<!-- 16&#45;&gt;20 -->\r\n",
       "<g id=\"edge20\" class=\"edge\"><title>16&#45;&gt;20</title>\r\n",
       "<path fill=\"none\" stroke=\"black\" d=\"M648.634,-408.655C682.405,-394.303 724.801,-376.284 760.003,-361.324\"/>\r\n",
       "<polygon fill=\"black\" stroke=\"black\" points=\"761.422,-364.524 769.257,-357.391 758.684,-358.081 761.422,-364.524\"/>\r\n",
       "</g>\r\n",
       "<!-- 18 -->\r\n",
       "<g id=\"node19\" class=\"node\"><title>18</title>\r\n",
       "<polygon fill=\"none\" stroke=\"black\" points=\"614,-253.5 502,-253.5 502,-200.5 614,-200.5 614,-253.5\"/>\r\n",
       "<text text-anchor=\"middle\" x=\"558\" y=\"-238.3\" font-family=\"Times New Roman,serif\" font-size=\"14.00\">mse = 1605.556</text>\r\n",
       "<text text-anchor=\"middle\" x=\"558\" y=\"-223.3\" font-family=\"Times New Roman,serif\" font-size=\"14.00\">samples = 2</text>\r\n",
       "<text text-anchor=\"middle\" x=\"558\" y=\"-208.3\" font-family=\"Times New Roman,serif\" font-size=\"14.00\">value = 1778.333</text>\r\n",
       "</g>\r\n",
       "<!-- 17&#45;&gt;18 -->\r\n",
       "<g id=\"edge18\" class=\"edge\"><title>17&#45;&gt;18</title>\r\n",
       "<path fill=\"none\" stroke=\"black\" d=\"M578.935,-296.884C575.66,-286.106 572.013,-274.108 568.693,-263.184\"/>\r\n",
       "<polygon fill=\"black\" stroke=\"black\" points=\"572.013,-262.07 565.756,-253.52 565.315,-264.106 572.013,-262.07\"/>\r\n",
       "</g>\r\n",
       "<!-- 19 -->\r\n",
       "<g id=\"node20\" class=\"node\"><title>19</title>\r\n",
       "<polygon fill=\"none\" stroke=\"black\" points=\"751.5,-253.5 632.5,-253.5 632.5,-200.5 751.5,-200.5 751.5,-253.5\"/>\r\n",
       "<text text-anchor=\"middle\" x=\"692\" y=\"-238.3\" font-family=\"Times New Roman,serif\" font-size=\"14.00\">mse = 183709.806</text>\r\n",
       "<text text-anchor=\"middle\" x=\"692\" y=\"-223.3\" font-family=\"Times New Roman,serif\" font-size=\"14.00\">samples = 5</text>\r\n",
       "<text text-anchor=\"middle\" x=\"692\" y=\"-208.3\" font-family=\"Times New Roman,serif\" font-size=\"14.00\">value = 1039.833</text>\r\n",
       "</g>\r\n",
       "<!-- 17&#45;&gt;19 -->\r\n",
       "<g id=\"edge19\" class=\"edge\"><title>17&#45;&gt;19</title>\r\n",
       "<path fill=\"none\" stroke=\"black\" d=\"M622.441,-296.884C634.102,-285.336 647.177,-272.387 658.817,-260.86\"/>\r\n",
       "<polygon fill=\"black\" stroke=\"black\" points=\"661.587,-263.043 666.23,-253.52 656.662,-258.07 661.587,-263.043\"/>\r\n",
       "</g>\r\n",
       "<!-- 21 -->\r\n",
       "<g id=\"node22\" class=\"node\"><title>21</title>\r\n",
       "<polygon fill=\"none\" stroke=\"black\" points=\"888.5,-253.5 769.5,-253.5 769.5,-200.5 888.5,-200.5 888.5,-253.5\"/>\r\n",
       "<text text-anchor=\"middle\" x=\"829\" y=\"-238.3\" font-family=\"Times New Roman,serif\" font-size=\"14.00\">mse = 1098358.25</text>\r\n",
       "<text text-anchor=\"middle\" x=\"829\" y=\"-223.3\" font-family=\"Times New Roman,serif\" font-size=\"14.00\">samples = 3</text>\r\n",
       "<text text-anchor=\"middle\" x=\"829\" y=\"-208.3\" font-family=\"Times New Roman,serif\" font-size=\"14.00\">value = 2648.5</text>\r\n",
       "</g>\r\n",
       "<!-- 20&#45;&gt;21 -->\r\n",
       "<g id=\"edge21\" class=\"edge\"><title>20&#45;&gt;21</title>\r\n",
       "<path fill=\"none\" stroke=\"black\" d=\"M829,-296.884C829,-286.326 829,-274.597 829,-263.854\"/>\r\n",
       "<polygon fill=\"black\" stroke=\"black\" points=\"832.5,-263.52 829,-253.52 825.5,-263.52 832.5,-263.52\"/>\r\n",
       "</g>\r\n",
       "<!-- 22 -->\r\n",
       "<g id=\"node23\" class=\"node\"><title>22</title>\r\n",
       "<polygon fill=\"none\" stroke=\"black\" points=\"1019.5,-261 906.5,-261 906.5,-193 1019.5,-193 1019.5,-261\"/>\r\n",
       "<text text-anchor=\"middle\" x=\"963\" y=\"-245.8\" font-family=\"Times New Roman,serif\" font-size=\"14.00\">X[1] &lt;= 0.294</text>\r\n",
       "<text text-anchor=\"middle\" x=\"963\" y=\"-230.8\" font-family=\"Times New Roman,serif\" font-size=\"14.00\">mse = 552586.98</text>\r\n",
       "<text text-anchor=\"middle\" x=\"963\" y=\"-215.8\" font-family=\"Times New Roman,serif\" font-size=\"14.00\">samples = 9</text>\r\n",
       "<text text-anchor=\"middle\" x=\"963\" y=\"-200.8\" font-family=\"Times New Roman,serif\" font-size=\"14.00\">value = 2085.857</text>\r\n",
       "</g>\r\n",
       "<!-- 20&#45;&gt;22 -->\r\n",
       "<g id=\"edge22\" class=\"edge\"><title>20&#45;&gt;22</title>\r\n",
       "<path fill=\"none\" stroke=\"black\" d=\"M872.506,-296.884C884.793,-287.531 898.287,-277.259 911.018,-267.568\"/>\r\n",
       "<polygon fill=\"black\" stroke=\"black\" points=\"913.417,-270.141 919.254,-261.299 909.177,-264.571 913.417,-270.141\"/>\r\n",
       "</g>\r\n",
       "<!-- 23 -->\r\n",
       "<g id=\"node24\" class=\"node\"><title>23</title>\r\n",
       "<polygon fill=\"none\" stroke=\"black\" points=\"955.5,-157 836.5,-157 836.5,-89 955.5,-89 955.5,-157\"/>\r\n",
       "<text text-anchor=\"middle\" x=\"896\" y=\"-141.8\" font-family=\"Times New Roman,serif\" font-size=\"14.00\">X[2] &lt;= 0.5</text>\r\n",
       "<text text-anchor=\"middle\" x=\"896\" y=\"-126.8\" font-family=\"Times New Roman,serif\" font-size=\"14.00\">mse = 578442.793</text>\r\n",
       "<text text-anchor=\"middle\" x=\"896\" y=\"-111.8\" font-family=\"Times New Roman,serif\" font-size=\"14.00\">samples = 7</text>\r\n",
       "<text text-anchor=\"middle\" x=\"896\" y=\"-96.8\" font-family=\"Times New Roman,serif\" font-size=\"14.00\">value = 2246.545</text>\r\n",
       "</g>\r\n",
       "<!-- 22&#45;&gt;23 -->\r\n",
       "<g id=\"edge23\" class=\"edge\"><title>22&#45;&gt;23</title>\r\n",
       "<path fill=\"none\" stroke=\"black\" d=\"M941.247,-192.884C935.572,-184.243 929.381,-174.819 923.452,-165.793\"/>\r\n",
       "<polygon fill=\"black\" stroke=\"black\" points=\"926.289,-163.736 917.873,-157.299 920.438,-167.579 926.289,-163.736\"/>\r\n",
       "</g>\r\n",
       "<!-- 26 -->\r\n",
       "<g id=\"node27\" class=\"node\"><title>26</title>\r\n",
       "<polygon fill=\"none\" stroke=\"black\" points=\"1086.5,-149.5 973.5,-149.5 973.5,-96.5 1086.5,-96.5 1086.5,-149.5\"/>\r\n",
       "<text text-anchor=\"middle\" x=\"1030\" y=\"-134.3\" font-family=\"Times New Roman,serif\" font-size=\"14.00\">mse = 15960.889</text>\r\n",
       "<text text-anchor=\"middle\" x=\"1030\" y=\"-119.3\" font-family=\"Times New Roman,serif\" font-size=\"14.00\">samples = 2</text>\r\n",
       "<text text-anchor=\"middle\" x=\"1030\" y=\"-104.3\" font-family=\"Times New Roman,serif\" font-size=\"14.00\">value = 1496.667</text>\r\n",
       "</g>\r\n",
       "<!-- 22&#45;&gt;26 -->\r\n",
       "<g id=\"edge26\" class=\"edge\"><title>22&#45;&gt;26</title>\r\n",
       "<path fill=\"none\" stroke=\"black\" d=\"M984.753,-192.884C992.049,-181.776 1000.2,-169.372 1007.55,-158.184\"/>\r\n",
       "<polygon fill=\"black\" stroke=\"black\" points=\"1010.67,-159.8 1013.24,-149.52 1004.82,-155.957 1010.67,-159.8\"/>\r\n",
       "</g>\r\n",
       "<!-- 24 -->\r\n",
       "<g id=\"node25\" class=\"node\"><title>24</title>\r\n",
       "<polygon fill=\"none\" stroke=\"black\" points=\"885.5,-53 772.5,-53 772.5,-0 885.5,-0 885.5,-53\"/>\r\n",
       "<text text-anchor=\"middle\" x=\"829\" y=\"-37.8\" font-family=\"Times New Roman,serif\" font-size=\"14.00\">mse = 218979.04</text>\r\n",
       "<text text-anchor=\"middle\" x=\"829\" y=\"-22.8\" font-family=\"Times New Roman,serif\" font-size=\"14.00\">samples = 3</text>\r\n",
       "<text text-anchor=\"middle\" x=\"829\" y=\"-7.8\" font-family=\"Times New Roman,serif\" font-size=\"14.00\">value = 1902.6</text>\r\n",
       "</g>\r\n",
       "<!-- 23&#45;&gt;24 -->\r\n",
       "<g id=\"edge24\" class=\"edge\"><title>23&#45;&gt;24</title>\r\n",
       "<path fill=\"none\" stroke=\"black\" d=\"M872.567,-88.9485C866.275,-80.0749 859.462,-70.4648 853.133,-61.5388\"/>\r\n",
       "<polygon fill=\"black\" stroke=\"black\" points=\"855.886,-59.3701 847.247,-53.2367 850.176,-63.4188 855.886,-59.3701\"/>\r\n",
       "</g>\r\n",
       "<!-- 25 -->\r\n",
       "<g id=\"node26\" class=\"node\"><title>25</title>\r\n",
       "<polygon fill=\"none\" stroke=\"black\" points=\"1022.5,-53 903.5,-53 903.5,-0 1022.5,-0 1022.5,-53\"/>\r\n",
       "<text text-anchor=\"middle\" x=\"963\" y=\"-37.8\" font-family=\"Times New Roman,serif\" font-size=\"14.00\">mse = 697262.139</text>\r\n",
       "<text text-anchor=\"middle\" x=\"963\" y=\"-22.8\" font-family=\"Times New Roman,serif\" font-size=\"14.00\">samples = 4</text>\r\n",
       "<text text-anchor=\"middle\" x=\"963\" y=\"-7.8\" font-family=\"Times New Roman,serif\" font-size=\"14.00\">value = 2533.167</text>\r\n",
       "</g>\r\n",
       "<!-- 23&#45;&gt;25 -->\r\n",
       "<g id=\"edge25\" class=\"edge\"><title>23&#45;&gt;25</title>\r\n",
       "<path fill=\"none\" stroke=\"black\" d=\"M919.433,-88.9485C925.725,-80.0749 932.538,-70.4648 938.867,-61.5388\"/>\r\n",
       "<polygon fill=\"black\" stroke=\"black\" points=\"941.824,-63.4188 944.753,-53.2367 936.114,-59.3701 941.824,-63.4188\"/>\r\n",
       "</g>\r\n",
       "</g>\r\n",
       "</svg>\r\n"
      ],
      "text/plain": [
       "<graphviz.files.Source at 0x2d6c652ed90>"
      ]
     },
     "metadata": {},
     "output_type": "display_data"
    }
   ],
   "source": [
    "from sklearn.tree import export_graphviz\n",
    "import graphviz\n",
    "\n",
    "export_graphviz(decision_tree=model_rf.estimators_[30],\n",
    "                out_file=\"tree.dot\",\n",
    "                impurity=True)\n",
    "with open(\"tree.dot\") as f:\n",
    "    dot_graph = f.read()\n",
    "display(graphviz.Source(dot_graph))"
   ]
  },
  {
   "cell_type": "markdown",
   "metadata": {},
   "source": [
    "# 모델 저장"
   ]
  },
  {
   "cell_type": "code",
   "execution_count": 40,
   "metadata": {},
   "outputs": [],
   "source": [
    "import pickle"
   ]
  },
  {
   "cell_type": "code",
   "execution_count": 41,
   "metadata": {},
   "outputs": [],
   "source": [
    "filename = 'finalized_model.sav'\n",
    "pickle.dump(model_dt, open(filename, 'wb'))"
   ]
  }
 ],
 "metadata": {
  "kernelspec": {
   "display_name": "Python 3",
   "language": "python",
   "name": "python3"
  },
  "language_info": {
   "codemirror_mode": {
    "name": "ipython",
    "version": 3
   },
   "file_extension": ".py",
   "mimetype": "text/x-python",
   "name": "python",
   "nbconvert_exporter": "python",
   "pygments_lexer": "ipython3",
   "version": "3.8.5"
  }
 },
 "nbformat": 4,
 "nbformat_minor": 4
}
