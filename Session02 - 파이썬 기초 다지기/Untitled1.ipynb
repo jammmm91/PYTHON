{
 "cells": [
  {
   "cell_type": "markdown",
   "metadata": {},
   "source": [
    "### productList를 활용하여 모바일 스피커 에서 \"003\" 모델을 제외하고 출력하세요"
   ]
  },
  {
   "cell_type": "code",
   "execution_count": 5,
   "metadata": {},
   "outputs": [],
   "source": [
    "tvList = [\"LEDTV_UN40EN001\", \"LEDTV_UN40EN002\", \"LEDTV_UN40EN003\"]\n",
    "mobileList = [\"G3_MO001\", \"G3_MO002\", \"G3_MO003\"]\n",
    "speakerList = [\"BL_SP001\", \"BL_SP002\", \"BL_SP003\"]\n",
    "\n",
    "productList = [tvList, mobileList, speakerList]"
   ]
  },
  {
   "cell_type": "code",
   "execution_count": 6,
   "metadata": {},
   "outputs": [],
   "source": [
    "# \"003\"이 포함된 문자는 출력하지 않는다"
   ]
  },
  {
   "cell_type": "code",
   "execution_count": 8,
   "metadata": {},
   "outputs": [
    {
     "name": "stdout",
     "output_type": "stream",
     "text": [
      "LEDTV_UN40EN001\n",
      "LEDTV_UN40EN002\n",
      "LEDTV_UN40EN003\n",
      "G3_MO001\n",
      "G3_MO002\n",
      "BL_SP001\n",
      "BL_SP002\n"
     ]
    }
   ],
   "source": [
    "for j in range(0, len(productList)):\n",
    "\n",
    "    speakerList = productList[j]\n",
    "\n",
    "    for i in range(0, len(speakerList)):\n",
    "\n",
    "        listItem = speakerList[i]\n",
    "        exceptTag = \"003\"\n",
    "        includeTag = \"LEDTV_\"\n",
    "\n",
    "        if listItem.count(includeTag) >= 1:\n",
    "            print(listItem)\n",
    "            continue\n",
    "\n",
    "        tagCnt =listItem.count(exceptTag)\n",
    "        if tagCnt == 0:\n",
    "            print(listItem)\n",
    "        else:\n",
    "            pass"
   ]
  },
  {
   "cell_type": "code",
   "execution_count": 22,
   "metadata": {},
   "outputs": [
    {
     "name": "stdout",
     "output_type": "stream",
     "text": [
      "G3_MO003\n"
     ]
    }
   ],
   "source": [
    "mobileList = [\"G3_MO001\", \"G3_MO002\", \"G3_MO003\"]\n",
    "\n",
    "for i in range (0,len(mobileList)):\n",
    "    if(mobileList[i].split(\"_\")[1] == \"MO003\"):\n",
    "        break\n",
    "        \n",
    "print(mobileList[i])"
   ]
  },
  {
   "cell_type": "code",
   "execution_count": 103,
   "metadata": {},
   "outputs": [],
   "source": [
    "speakerList = [\"BL_SP001\", \"BL_SP002\", \"BL_SP003\"]"
   ]
  },
  {
   "cell_type": "code",
   "execution_count": 24,
   "metadata": {},
   "outputs": [
    {
     "data": {
      "text/plain": [
       "'003'"
      ]
     },
     "execution_count": 24,
     "metadata": {},
     "output_type": "execute_result"
    }
   ],
   "source": [
    "speakerList[i].split(\"_\")[1][2:]"
   ]
  },
  {
   "cell_type": "code",
   "execution_count": 25,
   "metadata": {},
   "outputs": [
    {
     "name": "stdout",
     "output_type": "stream",
     "text": [
      "G3_MO001\n",
      "G3_MO002\n"
     ]
    }
   ],
   "source": [
    "speakerList = [\"BL_SP001\", \"BL_SP002\", \"BL_SP003\"]\n",
    "\n",
    "for i in range (0,len(speakerList)):\n",
    "    if(speakerList[i].split(\"_\")[1] == \"SP003\"):\n",
    "        break\n",
    "        \n",
    "    print(mobileList[i])"
   ]
  }
 ],
 "metadata": {
  "kernelspec": {
   "display_name": "Python 3",
   "language": "python",
   "name": "python3"
  },
  "language_info": {
   "codemirror_mode": {
    "name": "ipython",
    "version": 3
   },
   "file_extension": ".py",
   "mimetype": "text/x-python",
   "name": "python",
   "nbconvert_exporter": "python",
   "pygments_lexer": "ipython3",
   "version": "3.8.5"
  }
 },
 "nbformat": 4,
 "nbformat_minor": 4
}
