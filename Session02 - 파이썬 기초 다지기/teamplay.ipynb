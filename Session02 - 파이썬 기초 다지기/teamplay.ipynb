{
 "cells": [
  {
   "cell_type": "code",
   "execution_count": 2,
   "metadata": {
    "collapsed": true,
    "jupyter": {
     "outputs_hidden": true
    }
   },
   "outputs": [
    {
     "name": "stdin",
     "output_type": "stream",
     "text": [
      " 202020\n",
      " 10\n"
     ]
    },
    {
     "name": "stdout",
     "output_type": "stream",
     "text": [
      "202010\n"
     ]
    }
   ],
   "source": [
    "# from isoweek import Week\n",
    "# yearWeek = input() \n",
    "# week = int(input())\n",
    "\n",
    "# def preWeek(yearWeek, week):\n",
    "#     year = int(yearWeek[0:4])\n",
    "#     week1 = int(yearWeek[4:])\n",
    "\n",
    "   \n",
    "#     weekCnt = Week.last_week_of_year(year).week\n",
    "#     if ( week1 > week) :\n",
    "#         answerWeek1=str(int(yearWeek)-week)\n",
    "#         print(answerWeek1)\n",
    "#     elif (week1 <= week):\n",
    "#         temp=week-week1\n",
    "#         answerWeek2=str(weekCnt-temp)\n",
    "#         answerYear=str(year-1)\n",
    "#         print(answerYear + answerWeek2)\n",
    "\n",
    "\n",
    "# preWeek(yearWeek, week)"
   ]
  },
  {
   "cell_type": "code",
   "execution_count": 12,
   "metadata": {},
   "outputs": [],
   "source": [
    "from isoweek import Week\n",
    "\n",
    "# def preWeek(202019, 10):\n",
    "           \n",
    "Year = int(str(202019)[:4])  # 2019\n",
    "Weeks = int(str(202019)[4:]) # 19\n",
    "                             # 10\n",
    "\n",
    "weekCnt = Week.last_week_of_year(Year).week\n",
    "    \n",
    "if Weeks - 10 >= 10:\n",
    "    result = str(Year) + str(Weeks - 10)\n",
    "\n",
    "elif Weeks - 10 <= 0:\n",
    "    \n",
    "    \n",
    "    \n",
    "    \n",
    "else:\n",
    "    result = str(Year) + \"0\" + str(Weeks - 10)\n",
    "    \n",
    "# else Weeks - 10 < 0:"
   ]
  },
  {
   "cell_type": "code",
   "execution_count": 13,
   "metadata": {},
   "outputs": [
    {
     "data": {
      "text/plain": [
       "53"
      ]
     },
     "execution_count": 13,
     "metadata": {},
     "output_type": "execute_result"
    }
   ],
   "source": []
  },
  {
   "cell_type": "code",
   "execution_count": null,
   "metadata": {},
   "outputs": [],
   "source": []
  },
  {
   "cell_type": "code",
   "execution_count": 33,
   "metadata": {},
   "outputs": [],
   "source": [
    "weekCnt = Week.last_week_of_year(Year).week"
   ]
  },
  {
   "cell_type": "code",
   "execution_count": null,
   "metadata": {},
   "outputs": [],
   "source": []
  }
 ],
 "metadata": {
  "kernelspec": {
   "display_name": "Python 3",
   "language": "python",
   "name": "python3"
  },
  "language_info": {
   "codemirror_mode": {
    "name": "ipython",
    "version": 3
   },
   "file_extension": ".py",
   "mimetype": "text/x-python",
   "name": "python",
   "nbconvert_exporter": "python",
   "pygments_lexer": "ipython3",
   "version": "3.8.5"
  }
 },
 "nbformat": 4,
 "nbformat_minor": 4
}
