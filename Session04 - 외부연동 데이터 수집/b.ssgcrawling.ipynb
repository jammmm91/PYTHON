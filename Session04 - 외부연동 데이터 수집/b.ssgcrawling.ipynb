{
 "cells": [
  {
   "cell_type": "code",
   "execution_count": 1,
   "metadata": {},
   "outputs": [],
   "source": [
    "#라이브러리선언\n",
    "import pandas as pd\n",
    "from bs4 import BeautifulSoup \n",
    "import requests\n",
    "\n",
    "#targeturl 설정 및 우회접속 설정\n",
    "targetUrl = \"http://www.ssg.com/search.ssg?target=all&query=%EC%95%84%EC%9D%B4%ED%8F%B0\"\n",
    "\n",
    "headers = {'User-Agent': 'Mozilla/5.0 (Macintosh; Intel Mac OS X 10.14; rv:71.0) Gecko/20100101 Firefox/71.0'}\n",
    "\n",
    "resp=requests.get(targetUrl,headers=headers)\n",
    "\n",
    "resp.encoding = \"utf-8\"\n",
    "\n",
    "html = resp.text\n",
    "\n",
    "htmlobj = BeautifulSoup(html, \"html.parser\")"
   ]
  },
  {
   "cell_type": "code",
   "execution_count": 2,
   "metadata": {},
   "outputs": [],
   "source": [
    "#div태그 안의 id값 뽑아내서 변수에 저장\n",
    "divtags = htmlobj.find(name = \"div\", attrs = {\"id\":\"area_searchItemList\"})\n",
    "\n",
    "#em태그 안의 class:tx_en값 뽑아내서 변수에 저장\n",
    "emtags = divtags.findAll(name = \"em\", attrs = {\"class\":\"tx_en\"})\n",
    "\n",
    "#em태그 안의 class:ssg_price값 뽑아내서 변수에 저장\n",
    "emtags1 = divtags.findAll(name = \"em\", attrs = {\"class\":\"ssg_price\"})"
   ]
  },
  {
   "cell_type": "code",
   "execution_count": 3,
   "metadata": {},
   "outputs": [],
   "source": [
    "#빈 리스트 선언\n",
    "columnList = []\n",
    "columnList1 = []\n",
    "#for문 돌려서 각각의 열 채우기\n",
    "for i in range(0,len(emtags)):\n",
    "    eachEmtags = emtags[i]\n",
    "    eachEmtagsText = eachEmtags.text\n",
    "    columnList.append(eachEmtagsText)\n",
    "    \n",
    "    eachEmtags1 = emtags1[i]\n",
    "    eachEmtags1Text = eachEmtags1.text\n",
    "    columnList1.append(eachEmtags1Text)"
   ]
  },
  {
   "cell_type": "code",
   "execution_count": 4,
   "metadata": {},
   "outputs": [],
   "source": [
    "#zip으로 묶어서 변수에 저장\n",
    "resultFrame = pd.DataFrame(zip(columnList,columnList1))\n",
    "\n",
    "#컬럼이름 지정\n",
    "resultFrame.columns = [\"스마트폰은역시애플\",\"그렇지만비싼가격\"]"
   ]
  },
  {
   "cell_type": "code",
   "execution_count": 5,
   "metadata": {},
   "outputs": [
    {
     "data": {
      "text/html": [
       "<div>\n",
       "<style scoped>\n",
       "    .dataframe tbody tr th:only-of-type {\n",
       "        vertical-align: middle;\n",
       "    }\n",
       "\n",
       "    .dataframe tbody tr th {\n",
       "        vertical-align: top;\n",
       "    }\n",
       "\n",
       "    .dataframe thead th {\n",
       "        text-align: right;\n",
       "    }\n",
       "</style>\n",
       "<table border=\"1\" class=\"dataframe\">\n",
       "  <thead>\n",
       "    <tr style=\"text-align: right;\">\n",
       "      <th></th>\n",
       "      <th>스마트폰은역시애플</th>\n",
       "      <th>그렇지만비싼가격</th>\n",
       "    </tr>\n",
       "  </thead>\n",
       "  <tbody>\n",
       "    <tr>\n",
       "      <th>0</th>\n",
       "      <td>[초고속인터넷+휴대폰결합/상품권30만원추가증정] [SK신규가입] [선택약정/에센스~...</td>\n",
       "      <td>9,900</td>\n",
       "    </tr>\n",
       "    <tr>\n",
       "      <th>1</th>\n",
       "      <td>[사전예약] [SK기기변경/번호이동] [선택약정] [아이폰12 프로 128G] [I...</td>\n",
       "      <td>1,342,000</td>\n",
       "    </tr>\n",
       "    <tr>\n",
       "      <th>2</th>\n",
       "      <td>[SK기기변경/번호이동] [선택약정] [아이폰 11 64G] [IPhone 11 64G]</td>\n",
       "      <td>990,000</td>\n",
       "    </tr>\n",
       "    <tr>\n",
       "      <th>3</th>\n",
       "      <td>[사전예약] [SK기기변경/번호이동] [선택약정] [아이폰12 프로 256G] [I...</td>\n",
       "      <td>1,474,000</td>\n",
       "    </tr>\n",
       "    <tr>\n",
       "      <th>4</th>\n",
       "      <td>[SK기기변경/번호이동] [선택약정] [아이폰 11 128G] [IPhone 11 ...</td>\n",
       "      <td>1,056,000</td>\n",
       "    </tr>\n",
       "    <tr>\n",
       "      <th>...</th>\n",
       "      <td>...</td>\n",
       "      <td>...</td>\n",
       "    </tr>\n",
       "    <tr>\n",
       "      <th>75</th>\n",
       "      <td>아이폰11 케이스 울트라하이브리드S</td>\n",
       "      <td>18,500</td>\n",
       "    </tr>\n",
       "    <tr>\n",
       "      <th>76</th>\n",
       "      <td>엘라고 아이폰12/12프로 케이스 아머</td>\n",
       "      <td>25,000</td>\n",
       "    </tr>\n",
       "    <tr>\n",
       "      <th>77</th>\n",
       "      <td>아이폰11 케이스 리퀴드크리스탈</td>\n",
       "      <td>17,910</td>\n",
       "    </tr>\n",
       "    <tr>\n",
       "      <th>78</th>\n",
       "      <td>아이폰X 케이스 울트라하이브리드</td>\n",
       "      <td>18,810</td>\n",
       "    </tr>\n",
       "    <tr>\n",
       "      <th>79</th>\n",
       "      <td>아이폰11프로 케이스 리퀴드크리스탈</td>\n",
       "      <td>15,908</td>\n",
       "    </tr>\n",
       "  </tbody>\n",
       "</table>\n",
       "<p>80 rows × 2 columns</p>\n",
       "</div>"
      ],
      "text/plain": [
       "                                            스마트폰은역시애플   그렇지만비싼가격\n",
       "0   [초고속인터넷+휴대폰결합/상품권30만원추가증정] [SK신규가입] [선택약정/에센스~...      9,900\n",
       "1   [사전예약] [SK기기변경/번호이동] [선택약정] [아이폰12 프로 128G] [I...  1,342,000\n",
       "2   [SK기기변경/번호이동] [선택약정] [아이폰 11 64G] [IPhone 11 64G]    990,000\n",
       "3   [사전예약] [SK기기변경/번호이동] [선택약정] [아이폰12 프로 256G] [I...  1,474,000\n",
       "4   [SK기기변경/번호이동] [선택약정] [아이폰 11 128G] [IPhone 11 ...  1,056,000\n",
       "..                                                ...        ...\n",
       "75                                아이폰11 케이스 울트라하이브리드S     18,500\n",
       "76                              엘라고 아이폰12/12프로 케이스 아머     25,000\n",
       "77                                  아이폰11 케이스 리퀴드크리스탈     17,910\n",
       "78                                  아이폰X 케이스 울트라하이브리드     18,810\n",
       "79                                아이폰11프로 케이스 리퀴드크리스탈     15,908\n",
       "\n",
       "[80 rows x 2 columns]"
      ]
     },
     "execution_count": 5,
     "metadata": {},
     "output_type": "execute_result"
    }
   ],
   "source": [
    "#최종출력\n",
    "resultFrame"
   ]
  },
  {
   "cell_type": "code",
   "execution_count": null,
   "metadata": {},
   "outputs": [],
   "source": []
  }
 ],
 "metadata": {
  "kernelspec": {
   "display_name": "Python 3",
   "language": "python",
   "name": "python3"
  },
  "language_info": {
   "codemirror_mode": {
    "name": "ipython",
    "version": 3
   },
   "file_extension": ".py",
   "mimetype": "text/x-python",
   "name": "python",
   "nbconvert_exporter": "python",
   "pygments_lexer": "ipython3",
   "version": "3.8.5"
  }
 },
 "nbformat": 4,
 "nbformat_minor": 4
}
