{
 "cells": [
  {
   "cell_type": "code",
   "execution_count": 1,
   "metadata": {},
   "outputs": [],
   "source": [
    "#라이브러리선언\n",
    "import pandas as pd\n",
    "from bs4 import BeautifulSoup \n",
    "import requests \n",
    "\n",
    "#targeturl설정\n",
    "targetUrl = \"https://www.timeanddate.com/holidays/south-korea/\"\n",
    "\n",
    "resp = requests.get(url=targetUrl)\n",
    "\n",
    "resp.encoding = \"utf-8\"\n",
    "\n",
    "html = resp.text\n",
    "\n",
    "htmlobj = BeautifulSoup(html, \"html.parser\")\n",
    "\n",
    "#th태그안의 class:nw값 뽑아내서 변수에 저장\n",
    "thtags = htmlobj.findAll(name = \"th\", attrs = {\"class\":\"nw\"})\n",
    "\n",
    "#td값 뽑아내서 변수에 저장\n",
    "tdtags1 = htmlobj.findAll(name = \"td\")\n",
    "\n",
    "#a값 뽑아내서 변수에 저장\n",
    "atags = tdtags1[0].find(name = \"a\")\n",
    "\n",
    "#빈 리스트 선언\n",
    "columnList = []\n",
    "columnList1 = []\n",
    "columnList2 = []\n",
    "columnList3 = []\n",
    "#for문 돌려서 각각의 열 채우기\n",
    "for i in range(0,len(thtags)):\n",
    "    eachthtags = thtags[i]\n",
    "    eachthtagsText = eachthtags.text\n",
    "    columnList.append(eachthtagsText)\n",
    "for j in range(0,len(tdtags)):\n",
    "    eachtdtags = tdtags[j]\n",
    "    eachtdtagsText = eachtdtags.text\n",
    "    columnList1.append(eachtdtagsText)\n",
    "for k in range(1,len(tdtags1),3):\n",
    "    eachtdtags1 = tdtags1[k]\n",
    "    eachtdtags1Text = eachtdtags1.text\n",
    "    columnList2.append(eachtdtags1Text)\n",
    "for l in range(2,len(tdtags1),3):\n",
    "    eachtdtags1 = tdtags1[l]\n",
    "    eachtdtags1Text = eachtdtags1.text\n",
    "    columnList3.append(eachtdtags1Text)\n",
    "\n",
    "#zip으로 묶어서 변수에 저장\n",
    "finalFrame = pd.DataFrame(zip(columnList,columnList1,columnList2,columnList3))\n",
    "\n",
    "#컬럼이름 지정\n",
    "finalFrame.columns = [\"Date\",\"Day\",\"Name\",\"Type\"]\n",
    "\n",
    "#최종출력\n",
    "finalFrame"
   ]
  },
  {
   "cell_type": "code",
   "execution_count": null,
   "metadata": {},
   "outputs": [],
   "source": []
  }
 ],
 "metadata": {
  "kernelspec": {
   "display_name": "Python 3",
   "language": "python",
   "name": "python3"
  },
  "language_info": {
   "codemirror_mode": {
    "name": "ipython",
    "version": 3
   },
   "file_extension": ".py",
   "mimetype": "text/x-python",
   "name": "python",
   "nbconvert_exporter": "python",
   "pygments_lexer": "ipython3",
   "version": "3.8.5"
  }
 },
 "nbformat": 4,
 "nbformat_minor": 4
}
